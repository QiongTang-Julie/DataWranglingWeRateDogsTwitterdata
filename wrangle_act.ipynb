{
 "cells": [
  {
   "cell_type": "markdown",
   "metadata": {},
   "source": [
    "## Gather"
   ]
  },
  {
   "cell_type": "code",
   "execution_count": 96,
   "metadata": {},
   "outputs": [],
   "source": [
    "import pandas as pd\n",
    "import requests\n",
    "import os\n",
    "from bs4 import BeautifulSoup\n",
    "import glob\n",
    "import tweepy\n",
    "import json\n",
    "import numpy as np\n",
    "import matplotlib.pyplot as plt\n",
    "%matplotlib inline"
   ]
  },
  {
   "cell_type": "markdown",
   "metadata": {},
   "source": [
    "1. Load the data from file twitter-archive-enhanced.csv."
   ]
  },
  {
   "cell_type": "code",
   "execution_count": 3,
   "metadata": {},
   "outputs": [],
   "source": [
    "tweeter_archive = pd.read_csv('twitter-archive-enhanced.csv')"
   ]
  },
  {
   "cell_type": "markdown",
   "metadata": {},
   "source": [
    "2. Download file (image_predictions.tsv) from Udacity's server"
   ]
  },
  {
   "cell_type": "code",
   "execution_count": 4,
   "metadata": {},
   "outputs": [],
   "source": [
    "url = 'https://d17h27t6h515a5.cloudfront.net/topher/2017/August/599fd2ad_image-predictions/image-predictions.tsv'\n",
    "response = requests.get(url)\n",
    "\n",
    "with open(\"image_predictions.tsv\", mode = 'wb') as file:\n",
    "    file.write(response.content)"
   ]
  },
  {
   "cell_type": "code",
   "execution_count": 5,
   "metadata": {},
   "outputs": [],
   "source": [
    "# load the data from image_predictions.tsv\n",
    "images_predictions = pd.read_csv('image_predictions.tsv', sep='\\t')"
   ]
  },
  {
   "cell_type": "markdown",
   "metadata": {},
   "source": [
    "3. Use the tweet IDs in the WeRateDogs Twitter archive to query the Twitter API for each tweet's JSON data using Python's Tweepy library and store each tweet's entire set of JSON data in a file called tweet_json.txt file. Then read this .txt file line by line into a pandas DataFrame with tweet ID, retweet count, and favorite count. "
   ]
  },
  {
   "cell_type": "code",
   "execution_count": 6,
   "metadata": {},
   "outputs": [],
   "source": [
    "# Use Tweepy API to get retweet count and favorite count.\n",
    "\n",
    "# delete the key and tokens as requested by the submission requirement.\n",
    "consumer_key = \n",
    "consumer_secret = \n",
    "access_token = \n",
    "access_token_secret = \n",
    "\n",
    "# Authorization to consumer key and consumer secret \n",
    "auth = tweepy.OAuthHandler(consumer_key, consumer_secret)\n",
    "# Access to user's access key and access secret \n",
    "auth.set_access_token(access_token, access_token_secret)\n",
    "\n",
    "api = tweepy.API(auth, wait_on_rate_limit = True, wait_on_rate_limit_notify = True)\n"
   ]
  },
  {
   "cell_type": "code",
   "execution_count": 8,
   "metadata": {},
   "outputs": [
    {
     "name": "stdout",
     "output_type": "stream",
     "text": [
      "tweet_id:888202515573088257[{'code': 144, 'message': 'No status found with that ID.'}]\n",
      "tweet_id:873697596434513921[{'code': 144, 'message': 'No status found with that ID.'}]\n",
      "tweet_id:872668790621863937[{'code': 144, 'message': 'No status found with that ID.'}]\n",
      "tweet_id:872261713294495745[{'code': 144, 'message': 'No status found with that ID.'}]\n",
      "tweet_id:869988702071779329[{'code': 144, 'message': 'No status found with that ID.'}]\n",
      "tweet_id:866816280283807744[{'code': 144, 'message': 'No status found with that ID.'}]\n",
      "tweet_id:861769973181624320[{'code': 144, 'message': 'No status found with that ID.'}]\n",
      "tweet_id:856602993587888130[{'code': 144, 'message': 'No status found with that ID.'}]\n",
      "tweet_id:851953902622658560[{'code': 144, 'message': 'No status found with that ID.'}]\n",
      "tweet_id:845459076796616705[{'code': 144, 'message': 'No status found with that ID.'}]\n",
      "tweet_id:844704788403113984[{'code': 144, 'message': 'No status found with that ID.'}]\n",
      "tweet_id:842892208864923648[{'code': 144, 'message': 'No status found with that ID.'}]\n",
      "tweet_id:837366284874571778[{'code': 144, 'message': 'No status found with that ID.'}]\n",
      "tweet_id:837012587749474308[{'code': 144, 'message': 'No status found with that ID.'}]\n",
      "tweet_id:829374341691346946[{'code': 144, 'message': 'No status found with that ID.'}]\n",
      "tweet_id:827228250799742977[{'code': 144, 'message': 'No status found with that ID.'}]\n",
      "tweet_id:812747805718642688[{'code': 144, 'message': 'No status found with that ID.'}]\n",
      "tweet_id:802247111496568832[{'code': 144, 'message': 'No status found with that ID.'}]\n",
      "tweet_id:779123168116150273[{'code': 144, 'message': 'No status found with that ID.'}]\n",
      "tweet_id:775096608509886464[{'code': 144, 'message': 'No status found with that ID.'}]\n",
      "tweet_id:771004394259247104[{'code': 179, 'message': 'Sorry, you are not authorized to see this status.'}]\n",
      "tweet_id:770743923962707968[{'code': 144, 'message': 'No status found with that ID.'}]\n",
      "tweet_id:759566828574212096[{'code': 144, 'message': 'No status found with that ID.'}]\n"
     ]
    },
    {
     "name": "stderr",
     "output_type": "stream",
     "text": [
      "Rate limit reached. Sleeping for: 650\n"
     ]
    },
    {
     "name": "stdout",
     "output_type": "stream",
     "text": [
      "tweet_id:754011816964026368[{'code': 144, 'message': 'No status found with that ID.'}]\n",
      "tweet_id:680055455951884288[{'code': 144, 'message': 'No status found with that ID.'}]\n"
     ]
    },
    {
     "name": "stderr",
     "output_type": "stream",
     "text": [
      "Rate limit reached. Sleeping for: 660\n"
     ]
    }
   ],
   "source": [
    "# user tweepy API to query the tweet data \n",
    "tweet_data = {}\n",
    "tweet_data['tweets'] = []\n",
    "fails_tweets = {}\n",
    "fails_count = 0\n",
    "\n",
    "for tweet_id in tweeter_archive.tweet_id:\n",
    "    try:\n",
    "        tweet = api.get_status(int(tweet_id), tweet_mode='extended')\n",
    "        tweet_data['tweets'].append(tweet._json)\n",
    "    \n",
    "    except Exception as e:\n",
    "        print('tweet_id:' + str(tweet_id) + str(e))\n",
    "        fails_tweets[tweet_id] = e\n",
    "        fails_count += 1\n",
    "    \n"
   ]
  },
  {
   "cell_type": "code",
   "execution_count": 97,
   "metadata": {},
   "outputs": [
    {
     "name": "stdout",
     "output_type": "stream",
     "text": [
      "failed to get tweet data for 25 tweet ids\n",
      "888202515573088257: [{'code': 144, 'message': 'No status found with that ID.'}]\n",
      "873697596434513921: [{'code': 144, 'message': 'No status found with that ID.'}]\n",
      "872668790621863937: [{'code': 144, 'message': 'No status found with that ID.'}]\n",
      "872261713294495745: [{'code': 144, 'message': 'No status found with that ID.'}]\n",
      "869988702071779329: [{'code': 144, 'message': 'No status found with that ID.'}]\n",
      "866816280283807744: [{'code': 144, 'message': 'No status found with that ID.'}]\n",
      "861769973181624320: [{'code': 144, 'message': 'No status found with that ID.'}]\n",
      "856602993587888130: [{'code': 144, 'message': 'No status found with that ID.'}]\n",
      "851953902622658560: [{'code': 144, 'message': 'No status found with that ID.'}]\n",
      "845459076796616705: [{'code': 144, 'message': 'No status found with that ID.'}]\n",
      "844704788403113984: [{'code': 144, 'message': 'No status found with that ID.'}]\n",
      "842892208864923648: [{'code': 144, 'message': 'No status found with that ID.'}]\n",
      "837366284874571778: [{'code': 144, 'message': 'No status found with that ID.'}]\n",
      "837012587749474308: [{'code': 144, 'message': 'No status found with that ID.'}]\n",
      "829374341691346946: [{'code': 144, 'message': 'No status found with that ID.'}]\n",
      "827228250799742977: [{'code': 144, 'message': 'No status found with that ID.'}]\n",
      "812747805718642688: [{'code': 144, 'message': 'No status found with that ID.'}]\n",
      "802247111496568832: [{'code': 144, 'message': 'No status found with that ID.'}]\n",
      "779123168116150273: [{'code': 144, 'message': 'No status found with that ID.'}]\n",
      "775096608509886464: [{'code': 144, 'message': 'No status found with that ID.'}]\n",
      "771004394259247104: [{'code': 179, 'message': 'Sorry, you are not authorized to see this status.'}]\n",
      "770743923962707968: [{'code': 144, 'message': 'No status found with that ID.'}]\n",
      "759566828574212096: [{'code': 144, 'message': 'No status found with that ID.'}]\n",
      "754011816964026368: [{'code': 144, 'message': 'No status found with that ID.'}]\n",
      "680055455951884288: [{'code': 144, 'message': 'No status found with that ID.'}]\n",
      "[771004394259247104]\n"
     ]
    }
   ],
   "source": [
    "# requery if the error code is not 144('no status found with that ID')\n",
    "\n",
    "print(\"failed to get tweet data for {} tweet ids\".format(fails_count))\n",
    "requery_list = []\n",
    "for tweet in fails_tweets:\n",
    "    print(str(tweet) + ': ' + str(fails_tweets[tweet]))\n",
    "    if (str(144) not in str(fails_tweets[tweet])):\n",
    "        requery_list.append(tweet)\n",
    "\n",
    "print(requery_list)"
   ]
  },
  {
   "cell_type": "code",
   "execution_count": 98,
   "metadata": {},
   "outputs": [
    {
     "name": "stdout",
     "output_type": "stream",
     "text": [
      "tweet_id:771004394259247104[{'code': 179, 'message': 'Sorry, you are not authorized to see this status.'}]\n"
     ]
    }
   ],
   "source": [
    "# if the requery list is not null, query the tweet data for the tweet ids in this list\n",
    "\n",
    "if (len(requery_list) > 0):\n",
    "    fails_tweets_2 = {}\n",
    "    for tweet_id in requery_list:\n",
    "        try:\n",
    "            tweet = api.get_status(int(tweet_id), tweet_mode='extended')\n",
    "            tweet_data['tweets'].append(tweet._json)\n",
    "    \n",
    "        except Exception as e:\n",
    "            print('tweet_id:' + str(tweet_id) + str(e))\n",
    "            fails_tweets_2[tweet_id] = e\n",
    "    "
   ]
  },
  {
   "cell_type": "code",
   "execution_count": 99,
   "metadata": {},
   "outputs": [],
   "source": [
    "# write the tweet data into the file 'tweet_json.txt'\n",
    "\n",
    "with open('tweet_json.txt', 'w') as file:\n",
    "    json.dump(tweet_data, file)"
   ]
  },
  {
   "cell_type": "code",
   "execution_count": 100,
   "metadata": {},
   "outputs": [],
   "source": [
    "# Read this tweet_json.txt file line by line into a pandas DataFrame with tweet ID, retweet count, and favorite count.  \n",
    "\n",
    "tweet_list = []\n",
    "with open('tweet_json.txt', 'r') as json_file:\n",
    "    data = json.load(json_file)\n",
    "    for d in data['tweets']:\n",
    "        tweet_list.append({'tweet_id': d['id'],\n",
    "                         'retweet_count': d['retweet_count'],\n",
    "                         'favorite_count': d['favorite_count']})\n",
    "        \n",
    "    \n",
    "tweeter_additional = pd.DataFrame(tweet_list, columns = ['tweet_id', 'retweet_count', 'favorite_count'])   "
   ]
  },
  {
   "cell_type": "code",
   "execution_count": 101,
   "metadata": {},
   "outputs": [
    {
     "data": {
      "text/html": [
       "<div>\n",
       "<style scoped>\n",
       "    .dataframe tbody tr th:only-of-type {\n",
       "        vertical-align: middle;\n",
       "    }\n",
       "\n",
       "    .dataframe tbody tr th {\n",
       "        vertical-align: top;\n",
       "    }\n",
       "\n",
       "    .dataframe thead th {\n",
       "        text-align: right;\n",
       "    }\n",
       "</style>\n",
       "<table border=\"1\" class=\"dataframe\">\n",
       "  <thead>\n",
       "    <tr style=\"text-align: right;\">\n",
       "      <th></th>\n",
       "      <th>tweet_id</th>\n",
       "      <th>retweet_count</th>\n",
       "      <th>favorite_count</th>\n",
       "    </tr>\n",
       "  </thead>\n",
       "  <tbody>\n",
       "  </tbody>\n",
       "</table>\n",
       "</div>"
      ],
      "text/plain": [
       "Empty DataFrame\n",
       "Columns: [tweet_id, retweet_count, favorite_count]\n",
       "Index: []"
      ]
     },
     "execution_count": 101,
     "metadata": {},
     "output_type": "execute_result"
    }
   ],
   "source": [
    "# somehow, sometimes even we receive the error 'Failed to send request' for these two tweet ids, the data has been retrieved successfully.\n",
    "# It caused duplicated data in the dataset. Keep the requery code in case there is some other error and always check if there is any duplicated entries. \n",
    "tweeter_additional[tweeter_additional.duplicated()]"
   ]
  },
  {
   "cell_type": "code",
   "execution_count": 102,
   "metadata": {},
   "outputs": [],
   "source": [
    "# delete the duplicated rows\n",
    "tweeter_additional = tweeter_additional.drop_duplicates()"
   ]
  },
  {
   "cell_type": "code",
   "execution_count": 103,
   "metadata": {},
   "outputs": [
    {
     "data": {
      "text/plain": [
       "((2356, 17), (2331, 3))"
      ]
     },
     "execution_count": 103,
     "metadata": {},
     "output_type": "execute_result"
    }
   ],
   "source": [
    "# there are 25 tweet ids missing tweet contents. So in total there are 2331 records now in the tweeter_additional. \n",
    "#We are good with the data.\n",
    "tweeter_archive.shape, tweeter_additional.shape"
   ]
  },
  {
   "cell_type": "markdown",
   "metadata": {},
   "source": [
    "## Assess"
   ]
  },
  {
   "cell_type": "code",
   "execution_count": 104,
   "metadata": {},
   "outputs": [
    {
     "data": {
      "text/html": [
       "<div>\n",
       "<style scoped>\n",
       "    .dataframe tbody tr th:only-of-type {\n",
       "        vertical-align: middle;\n",
       "    }\n",
       "\n",
       "    .dataframe tbody tr th {\n",
       "        vertical-align: top;\n",
       "    }\n",
       "\n",
       "    .dataframe thead th {\n",
       "        text-align: right;\n",
       "    }\n",
       "</style>\n",
       "<table border=\"1\" class=\"dataframe\">\n",
       "  <thead>\n",
       "    <tr style=\"text-align: right;\">\n",
       "      <th></th>\n",
       "      <th>tweet_id</th>\n",
       "      <th>in_reply_to_status_id</th>\n",
       "      <th>in_reply_to_user_id</th>\n",
       "      <th>timestamp</th>\n",
       "      <th>source</th>\n",
       "      <th>text</th>\n",
       "      <th>retweeted_status_id</th>\n",
       "      <th>retweeted_status_user_id</th>\n",
       "      <th>retweeted_status_timestamp</th>\n",
       "      <th>expanded_urls</th>\n",
       "      <th>rating_numerator</th>\n",
       "      <th>rating_denominator</th>\n",
       "      <th>name</th>\n",
       "      <th>doggo</th>\n",
       "      <th>floofer</th>\n",
       "      <th>pupper</th>\n",
       "      <th>puppo</th>\n",
       "    </tr>\n",
       "  </thead>\n",
       "  <tbody>\n",
       "    <tr>\n",
       "      <td>0</td>\n",
       "      <td>892420643555336193</td>\n",
       "      <td>NaN</td>\n",
       "      <td>NaN</td>\n",
       "      <td>2017-08-01 16:23:56 +0000</td>\n",
       "      <td>&lt;a href=\"http://twitter.com/download/iphone\" rel=\"nofollow\"&gt;Twitter for iPhone&lt;/a&gt;</td>\n",
       "      <td>This is Phineas. He's a mystical boy. Only ever appears in the hole of a donut. 13/10 https://t.co/MgUWQ76dJU</td>\n",
       "      <td>NaN</td>\n",
       "      <td>NaN</td>\n",
       "      <td>NaN</td>\n",
       "      <td>https://twitter.com/dog_rates/status/892420643555336193/photo/1</td>\n",
       "      <td>13</td>\n",
       "      <td>10</td>\n",
       "      <td>Phineas</td>\n",
       "      <td>None</td>\n",
       "      <td>None</td>\n",
       "      <td>None</td>\n",
       "      <td>None</td>\n",
       "    </tr>\n",
       "    <tr>\n",
       "      <td>1</td>\n",
       "      <td>892177421306343426</td>\n",
       "      <td>NaN</td>\n",
       "      <td>NaN</td>\n",
       "      <td>2017-08-01 00:17:27 +0000</td>\n",
       "      <td>&lt;a href=\"http://twitter.com/download/iphone\" rel=\"nofollow\"&gt;Twitter for iPhone&lt;/a&gt;</td>\n",
       "      <td>This is Tilly. She's just checking pup on you. Hopes you're doing ok. If not, she's available for pats, snugs, boops, the whole bit. 13/10 https://t.co/0Xxu71qeIV</td>\n",
       "      <td>NaN</td>\n",
       "      <td>NaN</td>\n",
       "      <td>NaN</td>\n",
       "      <td>https://twitter.com/dog_rates/status/892177421306343426/photo/1</td>\n",
       "      <td>13</td>\n",
       "      <td>10</td>\n",
       "      <td>Tilly</td>\n",
       "      <td>None</td>\n",
       "      <td>None</td>\n",
       "      <td>None</td>\n",
       "      <td>None</td>\n",
       "    </tr>\n",
       "    <tr>\n",
       "      <td>2</td>\n",
       "      <td>891815181378084864</td>\n",
       "      <td>NaN</td>\n",
       "      <td>NaN</td>\n",
       "      <td>2017-07-31 00:18:03 +0000</td>\n",
       "      <td>&lt;a href=\"http://twitter.com/download/iphone\" rel=\"nofollow\"&gt;Twitter for iPhone&lt;/a&gt;</td>\n",
       "      <td>This is Archie. He is a rare Norwegian Pouncing Corgo. Lives in the tall grass. You never know when one may strike. 12/10 https://t.co/wUnZnhtVJB</td>\n",
       "      <td>NaN</td>\n",
       "      <td>NaN</td>\n",
       "      <td>NaN</td>\n",
       "      <td>https://twitter.com/dog_rates/status/891815181378084864/photo/1</td>\n",
       "      <td>12</td>\n",
       "      <td>10</td>\n",
       "      <td>Archie</td>\n",
       "      <td>None</td>\n",
       "      <td>None</td>\n",
       "      <td>None</td>\n",
       "      <td>None</td>\n",
       "    </tr>\n",
       "    <tr>\n",
       "      <td>3</td>\n",
       "      <td>891689557279858688</td>\n",
       "      <td>NaN</td>\n",
       "      <td>NaN</td>\n",
       "      <td>2017-07-30 15:58:51 +0000</td>\n",
       "      <td>&lt;a href=\"http://twitter.com/download/iphone\" rel=\"nofollow\"&gt;Twitter for iPhone&lt;/a&gt;</td>\n",
       "      <td>This is Darla. She commenced a snooze mid meal. 13/10 happens to the best of us https://t.co/tD36da7qLQ</td>\n",
       "      <td>NaN</td>\n",
       "      <td>NaN</td>\n",
       "      <td>NaN</td>\n",
       "      <td>https://twitter.com/dog_rates/status/891689557279858688/photo/1</td>\n",
       "      <td>13</td>\n",
       "      <td>10</td>\n",
       "      <td>Darla</td>\n",
       "      <td>None</td>\n",
       "      <td>None</td>\n",
       "      <td>None</td>\n",
       "      <td>None</td>\n",
       "    </tr>\n",
       "    <tr>\n",
       "      <td>4</td>\n",
       "      <td>891327558926688256</td>\n",
       "      <td>NaN</td>\n",
       "      <td>NaN</td>\n",
       "      <td>2017-07-29 16:00:24 +0000</td>\n",
       "      <td>&lt;a href=\"http://twitter.com/download/iphone\" rel=\"nofollow\"&gt;Twitter for iPhone&lt;/a&gt;</td>\n",
       "      <td>This is Franklin. He would like you to stop calling him \"cute.\" He is a very fierce shark and should be respected as such. 12/10 #BarkWeek https://t.co/AtUZn91f7f</td>\n",
       "      <td>NaN</td>\n",
       "      <td>NaN</td>\n",
       "      <td>NaN</td>\n",
       "      <td>https://twitter.com/dog_rates/status/891327558926688256/photo/1,https://twitter.com/dog_rates/status/891327558926688256/photo/1</td>\n",
       "      <td>12</td>\n",
       "      <td>10</td>\n",
       "      <td>Franklin</td>\n",
       "      <td>None</td>\n",
       "      <td>None</td>\n",
       "      <td>None</td>\n",
       "      <td>None</td>\n",
       "    </tr>\n",
       "    <tr>\n",
       "      <td>...</td>\n",
       "      <td>...</td>\n",
       "      <td>...</td>\n",
       "      <td>...</td>\n",
       "      <td>...</td>\n",
       "      <td>...</td>\n",
       "      <td>...</td>\n",
       "      <td>...</td>\n",
       "      <td>...</td>\n",
       "      <td>...</td>\n",
       "      <td>...</td>\n",
       "      <td>...</td>\n",
       "      <td>...</td>\n",
       "      <td>...</td>\n",
       "      <td>...</td>\n",
       "      <td>...</td>\n",
       "      <td>...</td>\n",
       "      <td>...</td>\n",
       "    </tr>\n",
       "    <tr>\n",
       "      <td>2351</td>\n",
       "      <td>666049248165822465</td>\n",
       "      <td>NaN</td>\n",
       "      <td>NaN</td>\n",
       "      <td>2015-11-16 00:24:50 +0000</td>\n",
       "      <td>&lt;a href=\"http://twitter.com/download/iphone\" rel=\"nofollow\"&gt;Twitter for iPhone&lt;/a&gt;</td>\n",
       "      <td>Here we have a 1949 1st generation vulpix. Enjoys sweat tea and Fox News. Cannot be phased. 5/10 https://t.co/4B7cOc1EDq</td>\n",
       "      <td>NaN</td>\n",
       "      <td>NaN</td>\n",
       "      <td>NaN</td>\n",
       "      <td>https://twitter.com/dog_rates/status/666049248165822465/photo/1</td>\n",
       "      <td>5</td>\n",
       "      <td>10</td>\n",
       "      <td>None</td>\n",
       "      <td>None</td>\n",
       "      <td>None</td>\n",
       "      <td>None</td>\n",
       "      <td>None</td>\n",
       "    </tr>\n",
       "    <tr>\n",
       "      <td>2352</td>\n",
       "      <td>666044226329800704</td>\n",
       "      <td>NaN</td>\n",
       "      <td>NaN</td>\n",
       "      <td>2015-11-16 00:04:52 +0000</td>\n",
       "      <td>&lt;a href=\"http://twitter.com/download/iphone\" rel=\"nofollow\"&gt;Twitter for iPhone&lt;/a&gt;</td>\n",
       "      <td>This is a purebred Piers Morgan. Loves to Netflix and chill. Always looks like he forgot to unplug the iron. 6/10 https://t.co/DWnyCjf2mx</td>\n",
       "      <td>NaN</td>\n",
       "      <td>NaN</td>\n",
       "      <td>NaN</td>\n",
       "      <td>https://twitter.com/dog_rates/status/666044226329800704/photo/1</td>\n",
       "      <td>6</td>\n",
       "      <td>10</td>\n",
       "      <td>a</td>\n",
       "      <td>None</td>\n",
       "      <td>None</td>\n",
       "      <td>None</td>\n",
       "      <td>None</td>\n",
       "    </tr>\n",
       "    <tr>\n",
       "      <td>2353</td>\n",
       "      <td>666033412701032449</td>\n",
       "      <td>NaN</td>\n",
       "      <td>NaN</td>\n",
       "      <td>2015-11-15 23:21:54 +0000</td>\n",
       "      <td>&lt;a href=\"http://twitter.com/download/iphone\" rel=\"nofollow\"&gt;Twitter for iPhone&lt;/a&gt;</td>\n",
       "      <td>Here is a very happy pup. Big fan of well-maintained decks. Just look at that tongue. 9/10 would cuddle af https://t.co/y671yMhoiR</td>\n",
       "      <td>NaN</td>\n",
       "      <td>NaN</td>\n",
       "      <td>NaN</td>\n",
       "      <td>https://twitter.com/dog_rates/status/666033412701032449/photo/1</td>\n",
       "      <td>9</td>\n",
       "      <td>10</td>\n",
       "      <td>a</td>\n",
       "      <td>None</td>\n",
       "      <td>None</td>\n",
       "      <td>None</td>\n",
       "      <td>None</td>\n",
       "    </tr>\n",
       "    <tr>\n",
       "      <td>2354</td>\n",
       "      <td>666029285002620928</td>\n",
       "      <td>NaN</td>\n",
       "      <td>NaN</td>\n",
       "      <td>2015-11-15 23:05:30 +0000</td>\n",
       "      <td>&lt;a href=\"http://twitter.com/download/iphone\" rel=\"nofollow\"&gt;Twitter for iPhone&lt;/a&gt;</td>\n",
       "      <td>This is a western brown Mitsubishi terrier. Upset about leaf. Actually 2 dogs here. 7/10 would walk the shit out of https://t.co/r7mOb2m0UI</td>\n",
       "      <td>NaN</td>\n",
       "      <td>NaN</td>\n",
       "      <td>NaN</td>\n",
       "      <td>https://twitter.com/dog_rates/status/666029285002620928/photo/1</td>\n",
       "      <td>7</td>\n",
       "      <td>10</td>\n",
       "      <td>a</td>\n",
       "      <td>None</td>\n",
       "      <td>None</td>\n",
       "      <td>None</td>\n",
       "      <td>None</td>\n",
       "    </tr>\n",
       "    <tr>\n",
       "      <td>2355</td>\n",
       "      <td>666020888022790149</td>\n",
       "      <td>NaN</td>\n",
       "      <td>NaN</td>\n",
       "      <td>2015-11-15 22:32:08 +0000</td>\n",
       "      <td>&lt;a href=\"http://twitter.com/download/iphone\" rel=\"nofollow\"&gt;Twitter for iPhone&lt;/a&gt;</td>\n",
       "      <td>Here we have a Japanese Irish Setter. Lost eye in Vietnam (?). Big fan of relaxing on stair. 8/10 would pet https://t.co/BLDqew2Ijj</td>\n",
       "      <td>NaN</td>\n",
       "      <td>NaN</td>\n",
       "      <td>NaN</td>\n",
       "      <td>https://twitter.com/dog_rates/status/666020888022790149/photo/1</td>\n",
       "      <td>8</td>\n",
       "      <td>10</td>\n",
       "      <td>None</td>\n",
       "      <td>None</td>\n",
       "      <td>None</td>\n",
       "      <td>None</td>\n",
       "      <td>None</td>\n",
       "    </tr>\n",
       "  </tbody>\n",
       "</table>\n",
       "<p>2356 rows × 17 columns</p>\n",
       "</div>"
      ],
      "text/plain": [
       "                tweet_id  in_reply_to_status_id  in_reply_to_user_id  \\\n",
       "0     892420643555336193 NaN                    NaN                    \n",
       "1     892177421306343426 NaN                    NaN                    \n",
       "2     891815181378084864 NaN                    NaN                    \n",
       "3     891689557279858688 NaN                    NaN                    \n",
       "4     891327558926688256 NaN                    NaN                    \n",
       "...                  ...  ..                     ..                    \n",
       "2351  666049248165822465 NaN                    NaN                    \n",
       "2352  666044226329800704 NaN                    NaN                    \n",
       "2353  666033412701032449 NaN                    NaN                    \n",
       "2354  666029285002620928 NaN                    NaN                    \n",
       "2355  666020888022790149 NaN                    NaN                    \n",
       "\n",
       "                      timestamp  \\\n",
       "0     2017-08-01 16:23:56 +0000   \n",
       "1     2017-08-01 00:17:27 +0000   \n",
       "2     2017-07-31 00:18:03 +0000   \n",
       "3     2017-07-30 15:58:51 +0000   \n",
       "4     2017-07-29 16:00:24 +0000   \n",
       "...                         ...   \n",
       "2351  2015-11-16 00:24:50 +0000   \n",
       "2352  2015-11-16 00:04:52 +0000   \n",
       "2353  2015-11-15 23:21:54 +0000   \n",
       "2354  2015-11-15 23:05:30 +0000   \n",
       "2355  2015-11-15 22:32:08 +0000   \n",
       "\n",
       "                                                                                  source  \\\n",
       "0     <a href=\"http://twitter.com/download/iphone\" rel=\"nofollow\">Twitter for iPhone</a>   \n",
       "1     <a href=\"http://twitter.com/download/iphone\" rel=\"nofollow\">Twitter for iPhone</a>   \n",
       "2     <a href=\"http://twitter.com/download/iphone\" rel=\"nofollow\">Twitter for iPhone</a>   \n",
       "3     <a href=\"http://twitter.com/download/iphone\" rel=\"nofollow\">Twitter for iPhone</a>   \n",
       "4     <a href=\"http://twitter.com/download/iphone\" rel=\"nofollow\">Twitter for iPhone</a>   \n",
       "...                                                                                  ...   \n",
       "2351  <a href=\"http://twitter.com/download/iphone\" rel=\"nofollow\">Twitter for iPhone</a>   \n",
       "2352  <a href=\"http://twitter.com/download/iphone\" rel=\"nofollow\">Twitter for iPhone</a>   \n",
       "2353  <a href=\"http://twitter.com/download/iphone\" rel=\"nofollow\">Twitter for iPhone</a>   \n",
       "2354  <a href=\"http://twitter.com/download/iphone\" rel=\"nofollow\">Twitter for iPhone</a>   \n",
       "2355  <a href=\"http://twitter.com/download/iphone\" rel=\"nofollow\">Twitter for iPhone</a>   \n",
       "\n",
       "                                                                                                                                                                    text  \\\n",
       "0     This is Phineas. He's a mystical boy. Only ever appears in the hole of a donut. 13/10 https://t.co/MgUWQ76dJU                                                        \n",
       "1     This is Tilly. She's just checking pup on you. Hopes you're doing ok. If not, she's available for pats, snugs, boops, the whole bit. 13/10 https://t.co/0Xxu71qeIV   \n",
       "2     This is Archie. He is a rare Norwegian Pouncing Corgo. Lives in the tall grass. You never know when one may strike. 12/10 https://t.co/wUnZnhtVJB                    \n",
       "3     This is Darla. She commenced a snooze mid meal. 13/10 happens to the best of us https://t.co/tD36da7qLQ                                                              \n",
       "4     This is Franklin. He would like you to stop calling him \"cute.\" He is a very fierce shark and should be respected as such. 12/10 #BarkWeek https://t.co/AtUZn91f7f   \n",
       "...                                                                                                                                                                  ...   \n",
       "2351  Here we have a 1949 1st generation vulpix. Enjoys sweat tea and Fox News. Cannot be phased. 5/10 https://t.co/4B7cOc1EDq                                             \n",
       "2352  This is a purebred Piers Morgan. Loves to Netflix and chill. Always looks like he forgot to unplug the iron. 6/10 https://t.co/DWnyCjf2mx                            \n",
       "2353  Here is a very happy pup. Big fan of well-maintained decks. Just look at that tongue. 9/10 would cuddle af https://t.co/y671yMhoiR                                   \n",
       "2354  This is a western brown Mitsubishi terrier. Upset about leaf. Actually 2 dogs here. 7/10 would walk the shit out of https://t.co/r7mOb2m0UI                          \n",
       "2355  Here we have a Japanese Irish Setter. Lost eye in Vietnam (?). Big fan of relaxing on stair. 8/10 would pet https://t.co/BLDqew2Ijj                                  \n",
       "\n",
       "      retweeted_status_id  retweeted_status_user_id  \\\n",
       "0    NaN                  NaN                         \n",
       "1    NaN                  NaN                         \n",
       "2    NaN                  NaN                         \n",
       "3    NaN                  NaN                         \n",
       "4    NaN                  NaN                         \n",
       "...   ..                   ..                         \n",
       "2351 NaN                  NaN                         \n",
       "2352 NaN                  NaN                         \n",
       "2353 NaN                  NaN                         \n",
       "2354 NaN                  NaN                         \n",
       "2355 NaN                  NaN                         \n",
       "\n",
       "     retweeted_status_timestamp  \\\n",
       "0     NaN                         \n",
       "1     NaN                         \n",
       "2     NaN                         \n",
       "3     NaN                         \n",
       "4     NaN                         \n",
       "...   ...                         \n",
       "2351  NaN                         \n",
       "2352  NaN                         \n",
       "2353  NaN                         \n",
       "2354  NaN                         \n",
       "2355  NaN                         \n",
       "\n",
       "                                                                                                                        expanded_urls  \\\n",
       "0     https://twitter.com/dog_rates/status/892420643555336193/photo/1                                                                   \n",
       "1     https://twitter.com/dog_rates/status/892177421306343426/photo/1                                                                   \n",
       "2     https://twitter.com/dog_rates/status/891815181378084864/photo/1                                                                   \n",
       "3     https://twitter.com/dog_rates/status/891689557279858688/photo/1                                                                   \n",
       "4     https://twitter.com/dog_rates/status/891327558926688256/photo/1,https://twitter.com/dog_rates/status/891327558926688256/photo/1   \n",
       "...                                                                                                                               ...   \n",
       "2351  https://twitter.com/dog_rates/status/666049248165822465/photo/1                                                                   \n",
       "2352  https://twitter.com/dog_rates/status/666044226329800704/photo/1                                                                   \n",
       "2353  https://twitter.com/dog_rates/status/666033412701032449/photo/1                                                                   \n",
       "2354  https://twitter.com/dog_rates/status/666029285002620928/photo/1                                                                   \n",
       "2355  https://twitter.com/dog_rates/status/666020888022790149/photo/1                                                                   \n",
       "\n",
       "      rating_numerator  rating_denominator      name doggo floofer pupper  \\\n",
       "0     13                10                  Phineas   None  None    None    \n",
       "1     13                10                  Tilly     None  None    None    \n",
       "2     12                10                  Archie    None  None    None    \n",
       "3     13                10                  Darla     None  None    None    \n",
       "4     12                10                  Franklin  None  None    None    \n",
       "...   ..                ..                       ...   ...   ...     ...    \n",
       "2351  5                 10                  None      None  None    None    \n",
       "2352  6                 10                  a         None  None    None    \n",
       "2353  9                 10                  a         None  None    None    \n",
       "2354  7                 10                  a         None  None    None    \n",
       "2355  8                 10                  None      None  None    None    \n",
       "\n",
       "     puppo  \n",
       "0     None  \n",
       "1     None  \n",
       "2     None  \n",
       "3     None  \n",
       "4     None  \n",
       "...    ...  \n",
       "2351  None  \n",
       "2352  None  \n",
       "2353  None  \n",
       "2354  None  \n",
       "2355  None  \n",
       "\n",
       "[2356 rows x 17 columns]"
      ]
     },
     "execution_count": 104,
     "metadata": {},
     "output_type": "execute_result"
    }
   ],
   "source": [
    "tweeter_archive"
   ]
  },
  {
   "cell_type": "code",
   "execution_count": 105,
   "metadata": {},
   "outputs": [
    {
     "name": "stdout",
     "output_type": "stream",
     "text": [
      "<class 'pandas.core.frame.DataFrame'>\n",
      "RangeIndex: 2356 entries, 0 to 2355\n",
      "Data columns (total 17 columns):\n",
      "tweet_id                      2356 non-null int64\n",
      "in_reply_to_status_id         78 non-null float64\n",
      "in_reply_to_user_id           78 non-null float64\n",
      "timestamp                     2356 non-null object\n",
      "source                        2356 non-null object\n",
      "text                          2356 non-null object\n",
      "retweeted_status_id           181 non-null float64\n",
      "retweeted_status_user_id      181 non-null float64\n",
      "retweeted_status_timestamp    181 non-null object\n",
      "expanded_urls                 2297 non-null object\n",
      "rating_numerator              2356 non-null int64\n",
      "rating_denominator            2356 non-null int64\n",
      "name                          2356 non-null object\n",
      "doggo                         2356 non-null object\n",
      "floofer                       2356 non-null object\n",
      "pupper                        2356 non-null object\n",
      "puppo                         2356 non-null object\n",
      "dtypes: float64(4), int64(3), object(10)\n",
      "memory usage: 313.0+ KB\n"
     ]
    }
   ],
   "source": [
    "tweeter_archive.info()"
   ]
  },
  {
   "cell_type": "code",
   "execution_count": 106,
   "metadata": {},
   "outputs": [
    {
     "data": {
      "text/html": [
       "<div>\n",
       "<style scoped>\n",
       "    .dataframe tbody tr th:only-of-type {\n",
       "        vertical-align: middle;\n",
       "    }\n",
       "\n",
       "    .dataframe tbody tr th {\n",
       "        vertical-align: top;\n",
       "    }\n",
       "\n",
       "    .dataframe thead th {\n",
       "        text-align: right;\n",
       "    }\n",
       "</style>\n",
       "<table border=\"1\" class=\"dataframe\">\n",
       "  <thead>\n",
       "    <tr style=\"text-align: right;\">\n",
       "      <th></th>\n",
       "      <th>tweet_id</th>\n",
       "      <th>in_reply_to_status_id</th>\n",
       "      <th>in_reply_to_user_id</th>\n",
       "      <th>retweeted_status_id</th>\n",
       "      <th>retweeted_status_user_id</th>\n",
       "      <th>rating_numerator</th>\n",
       "      <th>rating_denominator</th>\n",
       "    </tr>\n",
       "  </thead>\n",
       "  <tbody>\n",
       "    <tr>\n",
       "      <td>count</td>\n",
       "      <td>2.356000e+03</td>\n",
       "      <td>7.800000e+01</td>\n",
       "      <td>7.800000e+01</td>\n",
       "      <td>1.810000e+02</td>\n",
       "      <td>1.810000e+02</td>\n",
       "      <td>2356.000000</td>\n",
       "      <td>2356.000000</td>\n",
       "    </tr>\n",
       "    <tr>\n",
       "      <td>mean</td>\n",
       "      <td>7.427716e+17</td>\n",
       "      <td>7.455079e+17</td>\n",
       "      <td>2.014171e+16</td>\n",
       "      <td>7.720400e+17</td>\n",
       "      <td>1.241698e+16</td>\n",
       "      <td>13.126486</td>\n",
       "      <td>10.455433</td>\n",
       "    </tr>\n",
       "    <tr>\n",
       "      <td>std</td>\n",
       "      <td>6.856705e+16</td>\n",
       "      <td>7.582492e+16</td>\n",
       "      <td>1.252797e+17</td>\n",
       "      <td>6.236928e+16</td>\n",
       "      <td>9.599254e+16</td>\n",
       "      <td>45.876648</td>\n",
       "      <td>6.745237</td>\n",
       "    </tr>\n",
       "    <tr>\n",
       "      <td>min</td>\n",
       "      <td>6.660209e+17</td>\n",
       "      <td>6.658147e+17</td>\n",
       "      <td>1.185634e+07</td>\n",
       "      <td>6.661041e+17</td>\n",
       "      <td>7.832140e+05</td>\n",
       "      <td>0.000000</td>\n",
       "      <td>0.000000</td>\n",
       "    </tr>\n",
       "    <tr>\n",
       "      <td>25%</td>\n",
       "      <td>6.783989e+17</td>\n",
       "      <td>6.757419e+17</td>\n",
       "      <td>3.086374e+08</td>\n",
       "      <td>7.186315e+17</td>\n",
       "      <td>4.196984e+09</td>\n",
       "      <td>10.000000</td>\n",
       "      <td>10.000000</td>\n",
       "    </tr>\n",
       "    <tr>\n",
       "      <td>50%</td>\n",
       "      <td>7.196279e+17</td>\n",
       "      <td>7.038708e+17</td>\n",
       "      <td>4.196984e+09</td>\n",
       "      <td>7.804657e+17</td>\n",
       "      <td>4.196984e+09</td>\n",
       "      <td>11.000000</td>\n",
       "      <td>10.000000</td>\n",
       "    </tr>\n",
       "    <tr>\n",
       "      <td>75%</td>\n",
       "      <td>7.993373e+17</td>\n",
       "      <td>8.257804e+17</td>\n",
       "      <td>4.196984e+09</td>\n",
       "      <td>8.203146e+17</td>\n",
       "      <td>4.196984e+09</td>\n",
       "      <td>12.000000</td>\n",
       "      <td>10.000000</td>\n",
       "    </tr>\n",
       "    <tr>\n",
       "      <td>max</td>\n",
       "      <td>8.924206e+17</td>\n",
       "      <td>8.862664e+17</td>\n",
       "      <td>8.405479e+17</td>\n",
       "      <td>8.874740e+17</td>\n",
       "      <td>7.874618e+17</td>\n",
       "      <td>1776.000000</td>\n",
       "      <td>170.000000</td>\n",
       "    </tr>\n",
       "  </tbody>\n",
       "</table>\n",
       "</div>"
      ],
      "text/plain": [
       "           tweet_id  in_reply_to_status_id  in_reply_to_user_id  \\\n",
       "count  2.356000e+03  7.800000e+01           7.800000e+01          \n",
       "mean   7.427716e+17  7.455079e+17           2.014171e+16          \n",
       "std    6.856705e+16  7.582492e+16           1.252797e+17          \n",
       "min    6.660209e+17  6.658147e+17           1.185634e+07          \n",
       "25%    6.783989e+17  6.757419e+17           3.086374e+08          \n",
       "50%    7.196279e+17  7.038708e+17           4.196984e+09          \n",
       "75%    7.993373e+17  8.257804e+17           4.196984e+09          \n",
       "max    8.924206e+17  8.862664e+17           8.405479e+17          \n",
       "\n",
       "       retweeted_status_id  retweeted_status_user_id  rating_numerator  \\\n",
       "count  1.810000e+02         1.810000e+02              2356.000000        \n",
       "mean   7.720400e+17         1.241698e+16              13.126486          \n",
       "std    6.236928e+16         9.599254e+16              45.876648          \n",
       "min    6.661041e+17         7.832140e+05              0.000000           \n",
       "25%    7.186315e+17         4.196984e+09              10.000000          \n",
       "50%    7.804657e+17         4.196984e+09              11.000000          \n",
       "75%    8.203146e+17         4.196984e+09              12.000000          \n",
       "max    8.874740e+17         7.874618e+17              1776.000000        \n",
       "\n",
       "       rating_denominator  \n",
       "count  2356.000000         \n",
       "mean   10.455433           \n",
       "std    6.745237            \n",
       "min    0.000000            \n",
       "25%    10.000000           \n",
       "50%    10.000000           \n",
       "75%    10.000000           \n",
       "max    170.000000          "
      ]
     },
     "execution_count": 106,
     "metadata": {},
     "output_type": "execute_result"
    }
   ],
   "source": [
    "tweeter_archive.describe()"
   ]
  },
  {
   "cell_type": "code",
   "execution_count": 107,
   "metadata": {},
   "outputs": [
    {
     "data": {
      "text/html": [
       "<div>\n",
       "<style scoped>\n",
       "    .dataframe tbody tr th:only-of-type {\n",
       "        vertical-align: middle;\n",
       "    }\n",
       "\n",
       "    .dataframe tbody tr th {\n",
       "        vertical-align: top;\n",
       "    }\n",
       "\n",
       "    .dataframe thead th {\n",
       "        text-align: right;\n",
       "    }\n",
       "</style>\n",
       "<table border=\"1\" class=\"dataframe\">\n",
       "  <thead>\n",
       "    <tr style=\"text-align: right;\">\n",
       "      <th></th>\n",
       "      <th>tweet_id</th>\n",
       "      <th>in_reply_to_status_id</th>\n",
       "      <th>in_reply_to_user_id</th>\n",
       "      <th>timestamp</th>\n",
       "      <th>source</th>\n",
       "      <th>text</th>\n",
       "      <th>retweeted_status_id</th>\n",
       "      <th>retweeted_status_user_id</th>\n",
       "      <th>retweeted_status_timestamp</th>\n",
       "      <th>expanded_urls</th>\n",
       "      <th>rating_numerator</th>\n",
       "      <th>rating_denominator</th>\n",
       "      <th>name</th>\n",
       "      <th>doggo</th>\n",
       "      <th>floofer</th>\n",
       "      <th>pupper</th>\n",
       "      <th>puppo</th>\n",
       "    </tr>\n",
       "  </thead>\n",
       "  <tbody>\n",
       "    <tr>\n",
       "      <td>1206</td>\n",
       "      <td>715758151270801409</td>\n",
       "      <td>NaN</td>\n",
       "      <td>NaN</td>\n",
       "      <td>2016-04-01 04:30:16 +0000</td>\n",
       "      <td>&lt;a href=\"http://vine.co\" rel=\"nofollow\"&gt;Vine - Make a Scene&lt;/a&gt;</td>\n",
       "      <td>This is old now but it's absolutely heckin fantastic and I can't not share it with you all. 13/10  https://t.co/wJX74TSgzP</td>\n",
       "      <td>NaN</td>\n",
       "      <td>NaN</td>\n",
       "      <td>NaN</td>\n",
       "      <td>https://vine.co/v/hYdLVKDpAFu</td>\n",
       "      <td>13</td>\n",
       "      <td>10</td>\n",
       "      <td>old</td>\n",
       "      <td>None</td>\n",
       "      <td>None</td>\n",
       "      <td>None</td>\n",
       "      <td>None</td>\n",
       "    </tr>\n",
       "    <tr>\n",
       "      <td>887</td>\n",
       "      <td>759923798737051648</td>\n",
       "      <td>NaN</td>\n",
       "      <td>NaN</td>\n",
       "      <td>2016-08-01 01:28:46 +0000</td>\n",
       "      <td>&lt;a href=\"http://twitter.com/download/iphone\" rel=\"nofollow\"&gt;Twitter for iPhone&lt;/a&gt;</td>\n",
       "      <td>We only rate dogs... this is a Taiwanese Guide Walrus. Im getting real heckin tired of this. Please send dogs. 10/10 https://t.co/49hkNAsubi</td>\n",
       "      <td>NaN</td>\n",
       "      <td>NaN</td>\n",
       "      <td>NaN</td>\n",
       "      <td>https://twitter.com/dog_rates/status/759923798737051648/photo/1</td>\n",
       "      <td>10</td>\n",
       "      <td>10</td>\n",
       "      <td>None</td>\n",
       "      <td>None</td>\n",
       "      <td>None</td>\n",
       "      <td>None</td>\n",
       "      <td>None</td>\n",
       "    </tr>\n",
       "    <tr>\n",
       "      <td>513</td>\n",
       "      <td>811647686436880384</td>\n",
       "      <td>8.116272e+17</td>\n",
       "      <td>4.196984e+09</td>\n",
       "      <td>2016-12-21 19:01:02 +0000</td>\n",
       "      <td>&lt;a href=\"http://twitter.com/download/iphone\" rel=\"nofollow\"&gt;Twitter for iPhone&lt;/a&gt;</td>\n",
       "      <td>PUPDATE: I've been informed that Augie was actually bringing his family these flowers when he tripped. Very good boy. Pupgraded to 11/10</td>\n",
       "      <td>NaN</td>\n",
       "      <td>NaN</td>\n",
       "      <td>NaN</td>\n",
       "      <td>NaN</td>\n",
       "      <td>11</td>\n",
       "      <td>10</td>\n",
       "      <td>None</td>\n",
       "      <td>None</td>\n",
       "      <td>None</td>\n",
       "      <td>None</td>\n",
       "      <td>None</td>\n",
       "    </tr>\n",
       "    <tr>\n",
       "      <td>1534</td>\n",
       "      <td>689993469801164801</td>\n",
       "      <td>NaN</td>\n",
       "      <td>NaN</td>\n",
       "      <td>2016-01-21 02:10:37 +0000</td>\n",
       "      <td>&lt;a href=\"http://vine.co\" rel=\"nofollow\"&gt;Vine - Make a Scene&lt;/a&gt;</td>\n",
       "      <td>Here we are witnessing a rare High Stepping Alaskan Floofer. 12/10 dangerously petable (vid by @TheMrsNux) https://t.co/K4s9IJh2jm</td>\n",
       "      <td>NaN</td>\n",
       "      <td>NaN</td>\n",
       "      <td>NaN</td>\n",
       "      <td>https://vine.co/v/ienexVMZgi5</td>\n",
       "      <td>12</td>\n",
       "      <td>10</td>\n",
       "      <td>None</td>\n",
       "      <td>None</td>\n",
       "      <td>floofer</td>\n",
       "      <td>None</td>\n",
       "      <td>None</td>\n",
       "    </tr>\n",
       "    <tr>\n",
       "      <td>1687</td>\n",
       "      <td>681579835668455424</td>\n",
       "      <td>NaN</td>\n",
       "      <td>NaN</td>\n",
       "      <td>2015-12-28 20:57:50 +0000</td>\n",
       "      <td>&lt;a href=\"http://twitter.com/download/iphone\" rel=\"nofollow\"&gt;Twitter for iPhone&lt;/a&gt;</td>\n",
       "      <td>This is Apollo. He thought you weren't coming back so he had a mental breakdown. 8/10 we've all been there https://t.co/ojUBrDCHLT</td>\n",
       "      <td>NaN</td>\n",
       "      <td>NaN</td>\n",
       "      <td>NaN</td>\n",
       "      <td>https://twitter.com/dog_rates/status/681579835668455424/photo/1</td>\n",
       "      <td>8</td>\n",
       "      <td>10</td>\n",
       "      <td>Apollo</td>\n",
       "      <td>None</td>\n",
       "      <td>None</td>\n",
       "      <td>None</td>\n",
       "      <td>None</td>\n",
       "    </tr>\n",
       "  </tbody>\n",
       "</table>\n",
       "</div>"
      ],
      "text/plain": [
       "                tweet_id  in_reply_to_status_id  in_reply_to_user_id  \\\n",
       "1206  715758151270801409 NaN                    NaN                    \n",
       "887   759923798737051648 NaN                    NaN                    \n",
       "513   811647686436880384  8.116272e+17           4.196984e+09          \n",
       "1534  689993469801164801 NaN                    NaN                    \n",
       "1687  681579835668455424 NaN                    NaN                    \n",
       "\n",
       "                      timestamp  \\\n",
       "1206  2016-04-01 04:30:16 +0000   \n",
       "887   2016-08-01 01:28:46 +0000   \n",
       "513   2016-12-21 19:01:02 +0000   \n",
       "1534  2016-01-21 02:10:37 +0000   \n",
       "1687  2015-12-28 20:57:50 +0000   \n",
       "\n",
       "                                                                                  source  \\\n",
       "1206  <a href=\"http://vine.co\" rel=\"nofollow\">Vine - Make a Scene</a>                      \n",
       "887   <a href=\"http://twitter.com/download/iphone\" rel=\"nofollow\">Twitter for iPhone</a>   \n",
       "513   <a href=\"http://twitter.com/download/iphone\" rel=\"nofollow\">Twitter for iPhone</a>   \n",
       "1534  <a href=\"http://vine.co\" rel=\"nofollow\">Vine - Make a Scene</a>                      \n",
       "1687  <a href=\"http://twitter.com/download/iphone\" rel=\"nofollow\">Twitter for iPhone</a>   \n",
       "\n",
       "                                                                                                                                              text  \\\n",
       "1206  This is old now but it's absolutely heckin fantastic and I can't not share it with you all. 13/10  https://t.co/wJX74TSgzP                     \n",
       "887   We only rate dogs... this is a Taiwanese Guide Walrus. Im getting real heckin tired of this. Please send dogs. 10/10 https://t.co/49hkNAsubi   \n",
       "513   PUPDATE: I've been informed that Augie was actually bringing his family these flowers when he tripped. Very good boy. Pupgraded to 11/10       \n",
       "1534  Here we are witnessing a rare High Stepping Alaskan Floofer. 12/10 dangerously petable (vid by @TheMrsNux) https://t.co/K4s9IJh2jm             \n",
       "1687  This is Apollo. He thought you weren't coming back so he had a mental breakdown. 8/10 we've all been there https://t.co/ojUBrDCHLT             \n",
       "\n",
       "      retweeted_status_id  retweeted_status_user_id  \\\n",
       "1206 NaN                  NaN                         \n",
       "887  NaN                  NaN                         \n",
       "513  NaN                  NaN                         \n",
       "1534 NaN                  NaN                         \n",
       "1687 NaN                  NaN                         \n",
       "\n",
       "     retweeted_status_timestamp  \\\n",
       "1206  NaN                         \n",
       "887   NaN                         \n",
       "513   NaN                         \n",
       "1534  NaN                         \n",
       "1687  NaN                         \n",
       "\n",
       "                                                        expanded_urls  \\\n",
       "1206  https://vine.co/v/hYdLVKDpAFu                                     \n",
       "887   https://twitter.com/dog_rates/status/759923798737051648/photo/1   \n",
       "513   NaN                                                               \n",
       "1534  https://vine.co/v/ienexVMZgi5                                     \n",
       "1687  https://twitter.com/dog_rates/status/681579835668455424/photo/1   \n",
       "\n",
       "      rating_numerator  rating_denominator    name doggo  floofer pupper puppo  \n",
       "1206  13                10                  old     None  None     None   None  \n",
       "887   10                10                  None    None  None     None   None  \n",
       "513   11                10                  None    None  None     None   None  \n",
       "1534  12                10                  None    None  floofer  None   None  \n",
       "1687  8                 10                  Apollo  None  None     None   None  "
      ]
     },
     "execution_count": 107,
     "metadata": {},
     "output_type": "execute_result"
    }
   ],
   "source": [
    "tweeter_archive.sample(5)"
   ]
  },
  {
   "cell_type": "code",
   "execution_count": 108,
   "metadata": {},
   "outputs": [
    {
     "data": {
      "text/plain": [
       "0"
      ]
     },
     "execution_count": 108,
     "metadata": {},
     "output_type": "execute_result"
    }
   ],
   "source": [
    "sum(tweeter_archive['name'].isnull())"
   ]
  },
  {
   "cell_type": "code",
   "execution_count": 109,
   "metadata": {},
   "outputs": [
    {
     "data": {
      "text/plain": [
       "None     2259\n",
       "doggo    97  \n",
       "Name: doggo, dtype: int64"
      ]
     },
     "execution_count": 109,
     "metadata": {},
     "output_type": "execute_result"
    }
   ],
   "source": [
    "tweeter_archive['doggo'].value_counts()"
   ]
  },
  {
   "cell_type": "code",
   "execution_count": 110,
   "metadata": {},
   "outputs": [
    {
     "data": {
      "text/plain": [
       "None       2346\n",
       "floofer    10  \n",
       "Name: floofer, dtype: int64"
      ]
     },
     "execution_count": 110,
     "metadata": {},
     "output_type": "execute_result"
    }
   ],
   "source": [
    "tweeter_archive['floofer'].value_counts()                       "
   ]
  },
  {
   "cell_type": "code",
   "execution_count": 111,
   "metadata": {},
   "outputs": [
    {
     "data": {
      "text/plain": [
       "None      2099\n",
       "pupper    257 \n",
       "Name: pupper, dtype: int64"
      ]
     },
     "execution_count": 111,
     "metadata": {},
     "output_type": "execute_result"
    }
   ],
   "source": [
    "tweeter_archive['pupper'].value_counts()  "
   ]
  },
  {
   "cell_type": "code",
   "execution_count": 112,
   "metadata": {},
   "outputs": [
    {
     "data": {
      "text/plain": [
       "None     2326\n",
       "puppo    30  \n",
       "Name: puppo, dtype: int64"
      ]
     },
     "execution_count": 112,
     "metadata": {},
     "output_type": "execute_result"
    }
   ],
   "source": [
    "tweeter_archive['puppo'].value_counts()  "
   ]
  },
  {
   "cell_type": "code",
   "execution_count": 113,
   "metadata": {},
   "outputs": [
    {
     "data": {
      "text/html": [
       "<div>\n",
       "<style scoped>\n",
       "    .dataframe tbody tr th:only-of-type {\n",
       "        vertical-align: middle;\n",
       "    }\n",
       "\n",
       "    .dataframe tbody tr th {\n",
       "        vertical-align: top;\n",
       "    }\n",
       "\n",
       "    .dataframe thead th {\n",
       "        text-align: right;\n",
       "    }\n",
       "</style>\n",
       "<table border=\"1\" class=\"dataframe\">\n",
       "  <thead>\n",
       "    <tr style=\"text-align: right;\">\n",
       "      <th></th>\n",
       "      <th>tweet_id</th>\n",
       "      <th>in_reply_to_status_id</th>\n",
       "      <th>in_reply_to_user_id</th>\n",
       "      <th>timestamp</th>\n",
       "      <th>source</th>\n",
       "      <th>text</th>\n",
       "      <th>retweeted_status_id</th>\n",
       "      <th>retweeted_status_user_id</th>\n",
       "      <th>retweeted_status_timestamp</th>\n",
       "      <th>expanded_urls</th>\n",
       "      <th>rating_numerator</th>\n",
       "      <th>rating_denominator</th>\n",
       "      <th>name</th>\n",
       "      <th>doggo</th>\n",
       "      <th>floofer</th>\n",
       "      <th>pupper</th>\n",
       "      <th>puppo</th>\n",
       "    </tr>\n",
       "  </thead>\n",
       "  <tbody>\n",
       "    <tr>\n",
       "      <td>313</td>\n",
       "      <td>835246439529840640</td>\n",
       "      <td>8.352460e+17</td>\n",
       "      <td>26259576.0</td>\n",
       "      <td>2017-02-24 21:54:03 +0000</td>\n",
       "      <td>&lt;a href=\"http://twitter.com/download/iphone\" rel=\"nofollow\"&gt;Twitter for iPhone&lt;/a&gt;</td>\n",
       "      <td>@jonnysun @Lin_Manuel ok jomny I know you're excited but 960/00 isn't a valid rating, 13/10 is tho</td>\n",
       "      <td>NaN</td>\n",
       "      <td>NaN</td>\n",
       "      <td>NaN</td>\n",
       "      <td>NaN</td>\n",
       "      <td>960</td>\n",
       "      <td>0</td>\n",
       "      <td>None</td>\n",
       "      <td>None</td>\n",
       "      <td>None</td>\n",
       "      <td>None</td>\n",
       "      <td>None</td>\n",
       "    </tr>\n",
       "  </tbody>\n",
       "</table>\n",
       "</div>"
      ],
      "text/plain": [
       "               tweet_id  in_reply_to_status_id  in_reply_to_user_id  \\\n",
       "313  835246439529840640  8.352460e+17           26259576.0            \n",
       "\n",
       "                     timestamp  \\\n",
       "313  2017-02-24 21:54:03 +0000   \n",
       "\n",
       "                                                                                 source  \\\n",
       "313  <a href=\"http://twitter.com/download/iphone\" rel=\"nofollow\">Twitter for iPhone</a>   \n",
       "\n",
       "                                                                                                   text  \\\n",
       "313  @jonnysun @Lin_Manuel ok jomny I know you're excited but 960/00 isn't a valid rating, 13/10 is tho   \n",
       "\n",
       "     retweeted_status_id  retweeted_status_user_id retweeted_status_timestamp  \\\n",
       "313 NaN                  NaN                        NaN                         \n",
       "\n",
       "    expanded_urls  rating_numerator  rating_denominator  name doggo floofer  \\\n",
       "313  NaN           960               0                   None  None  None     \n",
       "\n",
       "    pupper puppo  \n",
       "313  None   None  "
      ]
     },
     "execution_count": 113,
     "metadata": {},
     "output_type": "execute_result"
    }
   ],
   "source": [
    "tweeter_archive[(tweeter_archive['rating_denominator'] == 0)]"
   ]
  },
  {
   "cell_type": "code",
   "execution_count": 114,
   "metadata": {},
   "outputs": [
    {
     "data": {
      "text/plain": [
       "10     2333\n",
       "11     3   \n",
       "50     3   \n",
       "80     2   \n",
       "20     2   \n",
       "2      1   \n",
       "16     1   \n",
       "40     1   \n",
       "70     1   \n",
       "15     1   \n",
       "90     1   \n",
       "110    1   \n",
       "120    1   \n",
       "130    1   \n",
       "150    1   \n",
       "170    1   \n",
       "7      1   \n",
       "0      1   \n",
       "Name: rating_denominator, dtype: int64"
      ]
     },
     "execution_count": 114,
     "metadata": {},
     "output_type": "execute_result"
    }
   ],
   "source": [
    "tweeter_archive.rating_denominator.value_counts()"
   ]
  },
  {
   "cell_type": "code",
   "execution_count": 115,
   "metadata": {},
   "outputs": [
    {
     "data": {
      "text/plain": [
       "181"
      ]
     },
     "execution_count": 115,
     "metadata": {},
     "output_type": "execute_result"
    }
   ],
   "source": [
    "len(tweeter_archive[~tweeter_archive['retweeted_status_id'].isnull()])"
   ]
  },
  {
   "cell_type": "code",
   "execution_count": 116,
   "metadata": {},
   "outputs": [
    {
     "data": {
      "text/plain": [
       "313    @jonnysun @Lin_Manuel ok jomny I know you're excited but 960/00 isn't a valid rating, 13/10 is tho\n",
       "Name: text, dtype: object"
      ]
     },
     "execution_count": 116,
     "metadata": {},
     "output_type": "execute_result"
    }
   ],
   "source": [
    "# check the text column for the tweeter with rating donominator being 0. The correct rating should be 13/10\n",
    "pd.set_option('display.max_colwidth', -1)\n",
    "tweeter_archive[(tweeter_archive['rating_denominator'] == 0)]['text']"
   ]
  },
  {
   "cell_type": "code",
   "execution_count": 117,
   "metadata": {},
   "outputs": [
    {
     "data": {
      "text/plain": [
       "None       745\n",
       "a          55 \n",
       "Charlie    12 \n",
       "Lucy       11 \n",
       "Cooper     11 \n",
       "           .. \n",
       "Mary       1  \n",
       "Bruno      1  \n",
       "Sully      1  \n",
       "Ace        1  \n",
       "Fynn       1  \n",
       "Name: name, Length: 957, dtype: int64"
      ]
     },
     "execution_count": 117,
     "metadata": {},
     "output_type": "execute_result"
    }
   ],
   "source": [
    "tweeter_archive.name.value_counts()"
   ]
  },
  {
   "cell_type": "code",
   "execution_count": 118,
   "metadata": {},
   "outputs": [
    {
     "data": {
      "text/html": [
       "<div>\n",
       "<style scoped>\n",
       "    .dataframe tbody tr th:only-of-type {\n",
       "        vertical-align: middle;\n",
       "    }\n",
       "\n",
       "    .dataframe tbody tr th {\n",
       "        vertical-align: top;\n",
       "    }\n",
       "\n",
       "    .dataframe thead th {\n",
       "        text-align: right;\n",
       "    }\n",
       "</style>\n",
       "<table border=\"1\" class=\"dataframe\">\n",
       "  <thead>\n",
       "    <tr style=\"text-align: right;\">\n",
       "      <th></th>\n",
       "      <th>tweet_id</th>\n",
       "      <th>retweet_count</th>\n",
       "      <th>favorite_count</th>\n",
       "    </tr>\n",
       "  </thead>\n",
       "  <tbody>\n",
       "    <tr>\n",
       "      <td>0</td>\n",
       "      <td>892420643555336193</td>\n",
       "      <td>7744</td>\n",
       "      <td>36395</td>\n",
       "    </tr>\n",
       "    <tr>\n",
       "      <td>1</td>\n",
       "      <td>892177421306343426</td>\n",
       "      <td>5735</td>\n",
       "      <td>31344</td>\n",
       "    </tr>\n",
       "    <tr>\n",
       "      <td>2</td>\n",
       "      <td>891815181378084864</td>\n",
       "      <td>3794</td>\n",
       "      <td>23617</td>\n",
       "    </tr>\n",
       "    <tr>\n",
       "      <td>3</td>\n",
       "      <td>891689557279858688</td>\n",
       "      <td>7906</td>\n",
       "      <td>39686</td>\n",
       "    </tr>\n",
       "    <tr>\n",
       "      <td>4</td>\n",
       "      <td>891327558926688256</td>\n",
       "      <td>8530</td>\n",
       "      <td>37895</td>\n",
       "    </tr>\n",
       "    <tr>\n",
       "      <td>...</td>\n",
       "      <td>...</td>\n",
       "      <td>...</td>\n",
       "      <td>...</td>\n",
       "    </tr>\n",
       "    <tr>\n",
       "      <td>2326</td>\n",
       "      <td>666049248165822465</td>\n",
       "      <td>41</td>\n",
       "      <td>97</td>\n",
       "    </tr>\n",
       "    <tr>\n",
       "      <td>2327</td>\n",
       "      <td>666044226329800704</td>\n",
       "      <td>133</td>\n",
       "      <td>273</td>\n",
       "    </tr>\n",
       "    <tr>\n",
       "      <td>2328</td>\n",
       "      <td>666033412701032449</td>\n",
       "      <td>41</td>\n",
       "      <td>113</td>\n",
       "    </tr>\n",
       "    <tr>\n",
       "      <td>2329</td>\n",
       "      <td>666029285002620928</td>\n",
       "      <td>42</td>\n",
       "      <td>121</td>\n",
       "    </tr>\n",
       "    <tr>\n",
       "      <td>2330</td>\n",
       "      <td>666020888022790149</td>\n",
       "      <td>465</td>\n",
       "      <td>2422</td>\n",
       "    </tr>\n",
       "  </tbody>\n",
       "</table>\n",
       "<p>2331 rows × 3 columns</p>\n",
       "</div>"
      ],
      "text/plain": [
       "                tweet_id  retweet_count  favorite_count\n",
       "0     892420643555336193  7744           36395         \n",
       "1     892177421306343426  5735           31344         \n",
       "2     891815181378084864  3794           23617         \n",
       "3     891689557279858688  7906           39686         \n",
       "4     891327558926688256  8530           37895         \n",
       "...                  ...   ...             ...         \n",
       "2326  666049248165822465  41             97            \n",
       "2327  666044226329800704  133            273           \n",
       "2328  666033412701032449  41             113           \n",
       "2329  666029285002620928  42             121           \n",
       "2330  666020888022790149  465            2422          \n",
       "\n",
       "[2331 rows x 3 columns]"
      ]
     },
     "execution_count": 118,
     "metadata": {},
     "output_type": "execute_result"
    }
   ],
   "source": [
    "tweeter_additional"
   ]
  },
  {
   "cell_type": "code",
   "execution_count": 119,
   "metadata": {},
   "outputs": [
    {
     "name": "stdout",
     "output_type": "stream",
     "text": [
      "<class 'pandas.core.frame.DataFrame'>\n",
      "Int64Index: 2331 entries, 0 to 2330\n",
      "Data columns (total 3 columns):\n",
      "tweet_id          2331 non-null int64\n",
      "retweet_count     2331 non-null int64\n",
      "favorite_count    2331 non-null int64\n",
      "dtypes: int64(3)\n",
      "memory usage: 72.8 KB\n"
     ]
    }
   ],
   "source": [
    "tweeter_additional.info()"
   ]
  },
  {
   "cell_type": "code",
   "execution_count": 120,
   "metadata": {},
   "outputs": [
    {
     "data": {
      "text/html": [
       "<div>\n",
       "<style scoped>\n",
       "    .dataframe tbody tr th:only-of-type {\n",
       "        vertical-align: middle;\n",
       "    }\n",
       "\n",
       "    .dataframe tbody tr th {\n",
       "        vertical-align: top;\n",
       "    }\n",
       "\n",
       "    .dataframe thead th {\n",
       "        text-align: right;\n",
       "    }\n",
       "</style>\n",
       "<table border=\"1\" class=\"dataframe\">\n",
       "  <thead>\n",
       "    <tr style=\"text-align: right;\">\n",
       "      <th></th>\n",
       "      <th>tweet_id</th>\n",
       "      <th>retweet_count</th>\n",
       "      <th>favorite_count</th>\n",
       "    </tr>\n",
       "  </thead>\n",
       "  <tbody>\n",
       "    <tr>\n",
       "      <td>count</td>\n",
       "      <td>2.331000e+03</td>\n",
       "      <td>2331.000000</td>\n",
       "      <td>2331.000000</td>\n",
       "    </tr>\n",
       "    <tr>\n",
       "      <td>mean</td>\n",
       "      <td>7.419079e+17</td>\n",
       "      <td>2718.015873</td>\n",
       "      <td>7600.474903</td>\n",
       "    </tr>\n",
       "    <tr>\n",
       "      <td>std</td>\n",
       "      <td>6.823170e+16</td>\n",
       "      <td>4597.761125</td>\n",
       "      <td>11794.359443</td>\n",
       "    </tr>\n",
       "    <tr>\n",
       "      <td>min</td>\n",
       "      <td>6.660209e+17</td>\n",
       "      <td>1.000000</td>\n",
       "      <td>0.000000</td>\n",
       "    </tr>\n",
       "    <tr>\n",
       "      <td>25%</td>\n",
       "      <td>6.782670e+17</td>\n",
       "      <td>549.000000</td>\n",
       "      <td>1327.500000</td>\n",
       "    </tr>\n",
       "    <tr>\n",
       "      <td>50%</td>\n",
       "      <td>7.182469e+17</td>\n",
       "      <td>1275.000000</td>\n",
       "      <td>3309.000000</td>\n",
       "    </tr>\n",
       "    <tr>\n",
       "      <td>75%</td>\n",
       "      <td>7.986692e+17</td>\n",
       "      <td>3156.500000</td>\n",
       "      <td>9311.500000</td>\n",
       "    </tr>\n",
       "    <tr>\n",
       "      <td>max</td>\n",
       "      <td>8.924206e+17</td>\n",
       "      <td>78263.000000</td>\n",
       "      <td>157119.000000</td>\n",
       "    </tr>\n",
       "  </tbody>\n",
       "</table>\n",
       "</div>"
      ],
      "text/plain": [
       "           tweet_id  retweet_count  favorite_count\n",
       "count  2.331000e+03  2331.000000    2331.000000   \n",
       "mean   7.419079e+17  2718.015873    7600.474903   \n",
       "std    6.823170e+16  4597.761125    11794.359443  \n",
       "min    6.660209e+17  1.000000       0.000000      \n",
       "25%    6.782670e+17  549.000000     1327.500000   \n",
       "50%    7.182469e+17  1275.000000    3309.000000   \n",
       "75%    7.986692e+17  3156.500000    9311.500000   \n",
       "max    8.924206e+17  78263.000000   157119.000000 "
      ]
     },
     "execution_count": 120,
     "metadata": {},
     "output_type": "execute_result"
    }
   ],
   "source": [
    "tweeter_additional.describe()"
   ]
  },
  {
   "cell_type": "code",
   "execution_count": 121,
   "metadata": {},
   "outputs": [
    {
     "data": {
      "text/html": [
       "<div>\n",
       "<style scoped>\n",
       "    .dataframe tbody tr th:only-of-type {\n",
       "        vertical-align: middle;\n",
       "    }\n",
       "\n",
       "    .dataframe tbody tr th {\n",
       "        vertical-align: top;\n",
       "    }\n",
       "\n",
       "    .dataframe thead th {\n",
       "        text-align: right;\n",
       "    }\n",
       "</style>\n",
       "<table border=\"1\" class=\"dataframe\">\n",
       "  <thead>\n",
       "    <tr style=\"text-align: right;\">\n",
       "      <th></th>\n",
       "      <th>tweet_id</th>\n",
       "      <th>retweet_count</th>\n",
       "      <th>favorite_count</th>\n",
       "    </tr>\n",
       "  </thead>\n",
       "  <tbody>\n",
       "    <tr>\n",
       "      <td>2071</td>\n",
       "      <td>670755717859713024</td>\n",
       "      <td>106</td>\n",
       "      <td>427</td>\n",
       "    </tr>\n",
       "    <tr>\n",
       "      <td>2297</td>\n",
       "      <td>666430724426358785</td>\n",
       "      <td>179</td>\n",
       "      <td>301</td>\n",
       "    </tr>\n",
       "    <tr>\n",
       "      <td>135</td>\n",
       "      <td>864873206498414592</td>\n",
       "      <td>8203</td>\n",
       "      <td>30975</td>\n",
       "    </tr>\n",
       "    <tr>\n",
       "      <td>1637</td>\n",
       "      <td>683030066213818368</td>\n",
       "      <td>738</td>\n",
       "      <td>2170</td>\n",
       "    </tr>\n",
       "    <tr>\n",
       "      <td>883</td>\n",
       "      <td>758041019896193024</td>\n",
       "      <td>379</td>\n",
       "      <td>2731</td>\n",
       "    </tr>\n",
       "  </tbody>\n",
       "</table>\n",
       "</div>"
      ],
      "text/plain": [
       "                tweet_id  retweet_count  favorite_count\n",
       "2071  670755717859713024  106            427           \n",
       "2297  666430724426358785  179            301           \n",
       "135   864873206498414592  8203           30975         \n",
       "1637  683030066213818368  738            2170          \n",
       "883   758041019896193024  379            2731          "
      ]
     },
     "execution_count": 121,
     "metadata": {},
     "output_type": "execute_result"
    }
   ],
   "source": [
    "tweeter_additional.sample(5)"
   ]
  },
  {
   "cell_type": "code",
   "execution_count": 122,
   "metadata": {},
   "outputs": [
    {
     "data": {
      "text/html": [
       "<div>\n",
       "<style scoped>\n",
       "    .dataframe tbody tr th:only-of-type {\n",
       "        vertical-align: middle;\n",
       "    }\n",
       "\n",
       "    .dataframe tbody tr th {\n",
       "        vertical-align: top;\n",
       "    }\n",
       "\n",
       "    .dataframe thead th {\n",
       "        text-align: right;\n",
       "    }\n",
       "</style>\n",
       "<table border=\"1\" class=\"dataframe\">\n",
       "  <thead>\n",
       "    <tr style=\"text-align: right;\">\n",
       "      <th></th>\n",
       "      <th>tweet_id</th>\n",
       "      <th>jpg_url</th>\n",
       "      <th>img_num</th>\n",
       "      <th>p1</th>\n",
       "      <th>p1_conf</th>\n",
       "      <th>p1_dog</th>\n",
       "      <th>p2</th>\n",
       "      <th>p2_conf</th>\n",
       "      <th>p2_dog</th>\n",
       "      <th>p3</th>\n",
       "      <th>p3_conf</th>\n",
       "      <th>p3_dog</th>\n",
       "    </tr>\n",
       "  </thead>\n",
       "  <tbody>\n",
       "    <tr>\n",
       "      <td>0</td>\n",
       "      <td>666020888022790149</td>\n",
       "      <td>https://pbs.twimg.com/media/CT4udn0WwAA0aMy.jpg</td>\n",
       "      <td>1</td>\n",
       "      <td>Welsh_springer_spaniel</td>\n",
       "      <td>0.465074</td>\n",
       "      <td>True</td>\n",
       "      <td>collie</td>\n",
       "      <td>0.156665</td>\n",
       "      <td>True</td>\n",
       "      <td>Shetland_sheepdog</td>\n",
       "      <td>0.061428</td>\n",
       "      <td>True</td>\n",
       "    </tr>\n",
       "    <tr>\n",
       "      <td>1</td>\n",
       "      <td>666029285002620928</td>\n",
       "      <td>https://pbs.twimg.com/media/CT42GRgUYAA5iDo.jpg</td>\n",
       "      <td>1</td>\n",
       "      <td>redbone</td>\n",
       "      <td>0.506826</td>\n",
       "      <td>True</td>\n",
       "      <td>miniature_pinscher</td>\n",
       "      <td>0.074192</td>\n",
       "      <td>True</td>\n",
       "      <td>Rhodesian_ridgeback</td>\n",
       "      <td>0.072010</td>\n",
       "      <td>True</td>\n",
       "    </tr>\n",
       "    <tr>\n",
       "      <td>2</td>\n",
       "      <td>666033412701032449</td>\n",
       "      <td>https://pbs.twimg.com/media/CT4521TWwAEvMyu.jpg</td>\n",
       "      <td>1</td>\n",
       "      <td>German_shepherd</td>\n",
       "      <td>0.596461</td>\n",
       "      <td>True</td>\n",
       "      <td>malinois</td>\n",
       "      <td>0.138584</td>\n",
       "      <td>True</td>\n",
       "      <td>bloodhound</td>\n",
       "      <td>0.116197</td>\n",
       "      <td>True</td>\n",
       "    </tr>\n",
       "    <tr>\n",
       "      <td>3</td>\n",
       "      <td>666044226329800704</td>\n",
       "      <td>https://pbs.twimg.com/media/CT5Dr8HUEAA-lEu.jpg</td>\n",
       "      <td>1</td>\n",
       "      <td>Rhodesian_ridgeback</td>\n",
       "      <td>0.408143</td>\n",
       "      <td>True</td>\n",
       "      <td>redbone</td>\n",
       "      <td>0.360687</td>\n",
       "      <td>True</td>\n",
       "      <td>miniature_pinscher</td>\n",
       "      <td>0.222752</td>\n",
       "      <td>True</td>\n",
       "    </tr>\n",
       "    <tr>\n",
       "      <td>4</td>\n",
       "      <td>666049248165822465</td>\n",
       "      <td>https://pbs.twimg.com/media/CT5IQmsXIAAKY4A.jpg</td>\n",
       "      <td>1</td>\n",
       "      <td>miniature_pinscher</td>\n",
       "      <td>0.560311</td>\n",
       "      <td>True</td>\n",
       "      <td>Rottweiler</td>\n",
       "      <td>0.243682</td>\n",
       "      <td>True</td>\n",
       "      <td>Doberman</td>\n",
       "      <td>0.154629</td>\n",
       "      <td>True</td>\n",
       "    </tr>\n",
       "    <tr>\n",
       "      <td>...</td>\n",
       "      <td>...</td>\n",
       "      <td>...</td>\n",
       "      <td>...</td>\n",
       "      <td>...</td>\n",
       "      <td>...</td>\n",
       "      <td>...</td>\n",
       "      <td>...</td>\n",
       "      <td>...</td>\n",
       "      <td>...</td>\n",
       "      <td>...</td>\n",
       "      <td>...</td>\n",
       "      <td>...</td>\n",
       "    </tr>\n",
       "    <tr>\n",
       "      <td>2070</td>\n",
       "      <td>891327558926688256</td>\n",
       "      <td>https://pbs.twimg.com/media/DF6hr6BUMAAzZgT.jpg</td>\n",
       "      <td>2</td>\n",
       "      <td>basset</td>\n",
       "      <td>0.555712</td>\n",
       "      <td>True</td>\n",
       "      <td>English_springer</td>\n",
       "      <td>0.225770</td>\n",
       "      <td>True</td>\n",
       "      <td>German_short-haired_pointer</td>\n",
       "      <td>0.175219</td>\n",
       "      <td>True</td>\n",
       "    </tr>\n",
       "    <tr>\n",
       "      <td>2071</td>\n",
       "      <td>891689557279858688</td>\n",
       "      <td>https://pbs.twimg.com/media/DF_q7IAWsAEuuN8.jpg</td>\n",
       "      <td>1</td>\n",
       "      <td>paper_towel</td>\n",
       "      <td>0.170278</td>\n",
       "      <td>False</td>\n",
       "      <td>Labrador_retriever</td>\n",
       "      <td>0.168086</td>\n",
       "      <td>True</td>\n",
       "      <td>spatula</td>\n",
       "      <td>0.040836</td>\n",
       "      <td>False</td>\n",
       "    </tr>\n",
       "    <tr>\n",
       "      <td>2072</td>\n",
       "      <td>891815181378084864</td>\n",
       "      <td>https://pbs.twimg.com/media/DGBdLU1WsAANxJ9.jpg</td>\n",
       "      <td>1</td>\n",
       "      <td>Chihuahua</td>\n",
       "      <td>0.716012</td>\n",
       "      <td>True</td>\n",
       "      <td>malamute</td>\n",
       "      <td>0.078253</td>\n",
       "      <td>True</td>\n",
       "      <td>kelpie</td>\n",
       "      <td>0.031379</td>\n",
       "      <td>True</td>\n",
       "    </tr>\n",
       "    <tr>\n",
       "      <td>2073</td>\n",
       "      <td>892177421306343426</td>\n",
       "      <td>https://pbs.twimg.com/media/DGGmoV4XsAAUL6n.jpg</td>\n",
       "      <td>1</td>\n",
       "      <td>Chihuahua</td>\n",
       "      <td>0.323581</td>\n",
       "      <td>True</td>\n",
       "      <td>Pekinese</td>\n",
       "      <td>0.090647</td>\n",
       "      <td>True</td>\n",
       "      <td>papillon</td>\n",
       "      <td>0.068957</td>\n",
       "      <td>True</td>\n",
       "    </tr>\n",
       "    <tr>\n",
       "      <td>2074</td>\n",
       "      <td>892420643555336193</td>\n",
       "      <td>https://pbs.twimg.com/media/DGKD1-bXoAAIAUK.jpg</td>\n",
       "      <td>1</td>\n",
       "      <td>orange</td>\n",
       "      <td>0.097049</td>\n",
       "      <td>False</td>\n",
       "      <td>bagel</td>\n",
       "      <td>0.085851</td>\n",
       "      <td>False</td>\n",
       "      <td>banana</td>\n",
       "      <td>0.076110</td>\n",
       "      <td>False</td>\n",
       "    </tr>\n",
       "  </tbody>\n",
       "</table>\n",
       "<p>2075 rows × 12 columns</p>\n",
       "</div>"
      ],
      "text/plain": [
       "                tweet_id                                          jpg_url  \\\n",
       "0     666020888022790149  https://pbs.twimg.com/media/CT4udn0WwAA0aMy.jpg   \n",
       "1     666029285002620928  https://pbs.twimg.com/media/CT42GRgUYAA5iDo.jpg   \n",
       "2     666033412701032449  https://pbs.twimg.com/media/CT4521TWwAEvMyu.jpg   \n",
       "3     666044226329800704  https://pbs.twimg.com/media/CT5Dr8HUEAA-lEu.jpg   \n",
       "4     666049248165822465  https://pbs.twimg.com/media/CT5IQmsXIAAKY4A.jpg   \n",
       "...                  ...                                              ...   \n",
       "2070  891327558926688256  https://pbs.twimg.com/media/DF6hr6BUMAAzZgT.jpg   \n",
       "2071  891689557279858688  https://pbs.twimg.com/media/DF_q7IAWsAEuuN8.jpg   \n",
       "2072  891815181378084864  https://pbs.twimg.com/media/DGBdLU1WsAANxJ9.jpg   \n",
       "2073  892177421306343426  https://pbs.twimg.com/media/DGGmoV4XsAAUL6n.jpg   \n",
       "2074  892420643555336193  https://pbs.twimg.com/media/DGKD1-bXoAAIAUK.jpg   \n",
       "\n",
       "      img_num                      p1   p1_conf  p1_dog                  p2  \\\n",
       "0     1        Welsh_springer_spaniel  0.465074  True    collie               \n",
       "1     1        redbone                 0.506826  True    miniature_pinscher   \n",
       "2     1        German_shepherd         0.596461  True    malinois             \n",
       "3     1        Rhodesian_ridgeback     0.408143  True    redbone              \n",
       "4     1        miniature_pinscher      0.560311  True    Rottweiler           \n",
       "...  ..                       ...           ...   ...           ...           \n",
       "2070  2        basset                  0.555712  True    English_springer     \n",
       "2071  1        paper_towel             0.170278  False   Labrador_retriever   \n",
       "2072  1        Chihuahua               0.716012  True    malamute             \n",
       "2073  1        Chihuahua               0.323581  True    Pekinese             \n",
       "2074  1        orange                  0.097049  False   bagel                \n",
       "\n",
       "       p2_conf  p2_dog                           p3   p3_conf  p3_dog  \n",
       "0     0.156665  True    Shetland_sheepdog            0.061428  True    \n",
       "1     0.074192  True    Rhodesian_ridgeback          0.072010  True    \n",
       "2     0.138584  True    bloodhound                   0.116197  True    \n",
       "3     0.360687  True    miniature_pinscher           0.222752  True    \n",
       "4     0.243682  True    Doberman                     0.154629  True    \n",
       "...        ...   ...         ...                          ...   ...    \n",
       "2070  0.225770  True    German_short-haired_pointer  0.175219  True    \n",
       "2071  0.168086  True    spatula                      0.040836  False   \n",
       "2072  0.078253  True    kelpie                       0.031379  True    \n",
       "2073  0.090647  True    papillon                     0.068957  True    \n",
       "2074  0.085851  False   banana                       0.076110  False   \n",
       "\n",
       "[2075 rows x 12 columns]"
      ]
     },
     "execution_count": 122,
     "metadata": {},
     "output_type": "execute_result"
    }
   ],
   "source": [
    "images_predictions"
   ]
  },
  {
   "cell_type": "code",
   "execution_count": 123,
   "metadata": {},
   "outputs": [
    {
     "name": "stdout",
     "output_type": "stream",
     "text": [
      "<class 'pandas.core.frame.DataFrame'>\n",
      "RangeIndex: 2075 entries, 0 to 2074\n",
      "Data columns (total 12 columns):\n",
      "tweet_id    2075 non-null int64\n",
      "jpg_url     2075 non-null object\n",
      "img_num     2075 non-null int64\n",
      "p1          2075 non-null object\n",
      "p1_conf     2075 non-null float64\n",
      "p1_dog      2075 non-null bool\n",
      "p2          2075 non-null object\n",
      "p2_conf     2075 non-null float64\n",
      "p2_dog      2075 non-null bool\n",
      "p3          2075 non-null object\n",
      "p3_conf     2075 non-null float64\n",
      "p3_dog      2075 non-null bool\n",
      "dtypes: bool(3), float64(3), int64(2), object(4)\n",
      "memory usage: 152.1+ KB\n"
     ]
    }
   ],
   "source": [
    "images_predictions.info()"
   ]
  },
  {
   "cell_type": "code",
   "execution_count": 124,
   "metadata": {},
   "outputs": [
    {
     "data": {
      "text/html": [
       "<div>\n",
       "<style scoped>\n",
       "    .dataframe tbody tr th:only-of-type {\n",
       "        vertical-align: middle;\n",
       "    }\n",
       "\n",
       "    .dataframe tbody tr th {\n",
       "        vertical-align: top;\n",
       "    }\n",
       "\n",
       "    .dataframe thead th {\n",
       "        text-align: right;\n",
       "    }\n",
       "</style>\n",
       "<table border=\"1\" class=\"dataframe\">\n",
       "  <thead>\n",
       "    <tr style=\"text-align: right;\">\n",
       "      <th></th>\n",
       "      <th>tweet_id</th>\n",
       "      <th>img_num</th>\n",
       "      <th>p1_conf</th>\n",
       "      <th>p2_conf</th>\n",
       "      <th>p3_conf</th>\n",
       "    </tr>\n",
       "  </thead>\n",
       "  <tbody>\n",
       "    <tr>\n",
       "      <td>count</td>\n",
       "      <td>2.075000e+03</td>\n",
       "      <td>2075.000000</td>\n",
       "      <td>2075.000000</td>\n",
       "      <td>2.075000e+03</td>\n",
       "      <td>2.075000e+03</td>\n",
       "    </tr>\n",
       "    <tr>\n",
       "      <td>mean</td>\n",
       "      <td>7.384514e+17</td>\n",
       "      <td>1.203855</td>\n",
       "      <td>0.594548</td>\n",
       "      <td>1.345886e-01</td>\n",
       "      <td>6.032417e-02</td>\n",
       "    </tr>\n",
       "    <tr>\n",
       "      <td>std</td>\n",
       "      <td>6.785203e+16</td>\n",
       "      <td>0.561875</td>\n",
       "      <td>0.271174</td>\n",
       "      <td>1.006657e-01</td>\n",
       "      <td>5.090593e-02</td>\n",
       "    </tr>\n",
       "    <tr>\n",
       "      <td>min</td>\n",
       "      <td>6.660209e+17</td>\n",
       "      <td>1.000000</td>\n",
       "      <td>0.044333</td>\n",
       "      <td>1.011300e-08</td>\n",
       "      <td>1.740170e-10</td>\n",
       "    </tr>\n",
       "    <tr>\n",
       "      <td>25%</td>\n",
       "      <td>6.764835e+17</td>\n",
       "      <td>1.000000</td>\n",
       "      <td>0.364412</td>\n",
       "      <td>5.388625e-02</td>\n",
       "      <td>1.622240e-02</td>\n",
       "    </tr>\n",
       "    <tr>\n",
       "      <td>50%</td>\n",
       "      <td>7.119988e+17</td>\n",
       "      <td>1.000000</td>\n",
       "      <td>0.588230</td>\n",
       "      <td>1.181810e-01</td>\n",
       "      <td>4.944380e-02</td>\n",
       "    </tr>\n",
       "    <tr>\n",
       "      <td>75%</td>\n",
       "      <td>7.932034e+17</td>\n",
       "      <td>1.000000</td>\n",
       "      <td>0.843855</td>\n",
       "      <td>1.955655e-01</td>\n",
       "      <td>9.180755e-02</td>\n",
       "    </tr>\n",
       "    <tr>\n",
       "      <td>max</td>\n",
       "      <td>8.924206e+17</td>\n",
       "      <td>4.000000</td>\n",
       "      <td>1.000000</td>\n",
       "      <td>4.880140e-01</td>\n",
       "      <td>2.734190e-01</td>\n",
       "    </tr>\n",
       "  </tbody>\n",
       "</table>\n",
       "</div>"
      ],
      "text/plain": [
       "           tweet_id      img_num      p1_conf       p2_conf       p3_conf\n",
       "count  2.075000e+03  2075.000000  2075.000000  2.075000e+03  2.075000e+03\n",
       "mean   7.384514e+17  1.203855     0.594548     1.345886e-01  6.032417e-02\n",
       "std    6.785203e+16  0.561875     0.271174     1.006657e-01  5.090593e-02\n",
       "min    6.660209e+17  1.000000     0.044333     1.011300e-08  1.740170e-10\n",
       "25%    6.764835e+17  1.000000     0.364412     5.388625e-02  1.622240e-02\n",
       "50%    7.119988e+17  1.000000     0.588230     1.181810e-01  4.944380e-02\n",
       "75%    7.932034e+17  1.000000     0.843855     1.955655e-01  9.180755e-02\n",
       "max    8.924206e+17  4.000000     1.000000     4.880140e-01  2.734190e-01"
      ]
     },
     "execution_count": 124,
     "metadata": {},
     "output_type": "execute_result"
    }
   ],
   "source": [
    "images_predictions.describe()"
   ]
  },
  {
   "cell_type": "code",
   "execution_count": 125,
   "metadata": {},
   "outputs": [
    {
     "data": {
      "text/html": [
       "<div>\n",
       "<style scoped>\n",
       "    .dataframe tbody tr th:only-of-type {\n",
       "        vertical-align: middle;\n",
       "    }\n",
       "\n",
       "    .dataframe tbody tr th {\n",
       "        vertical-align: top;\n",
       "    }\n",
       "\n",
       "    .dataframe thead th {\n",
       "        text-align: right;\n",
       "    }\n",
       "</style>\n",
       "<table border=\"1\" class=\"dataframe\">\n",
       "  <thead>\n",
       "    <tr style=\"text-align: right;\">\n",
       "      <th></th>\n",
       "      <th>tweet_id</th>\n",
       "      <th>jpg_url</th>\n",
       "      <th>img_num</th>\n",
       "      <th>p1</th>\n",
       "      <th>p1_conf</th>\n",
       "      <th>p1_dog</th>\n",
       "      <th>p2</th>\n",
       "      <th>p2_conf</th>\n",
       "      <th>p2_dog</th>\n",
       "      <th>p3</th>\n",
       "      <th>p3_conf</th>\n",
       "      <th>p3_dog</th>\n",
       "    </tr>\n",
       "  </thead>\n",
       "  <tbody>\n",
       "    <tr>\n",
       "      <td>1271</td>\n",
       "      <td>749996283729883136</td>\n",
       "      <td>https://pbs.twimg.com/media/CmfoyrrW8AA8v7w.jpg</td>\n",
       "      <td>1</td>\n",
       "      <td>Old_English_sheepdog</td>\n",
       "      <td>0.515319</td>\n",
       "      <td>True</td>\n",
       "      <td>West_Highland_white_terrier</td>\n",
       "      <td>0.151040</td>\n",
       "      <td>True</td>\n",
       "      <td>soft-coated_wheaten_terrier</td>\n",
       "      <td>0.056420</td>\n",
       "      <td>True</td>\n",
       "    </tr>\n",
       "    <tr>\n",
       "      <td>2030</td>\n",
       "      <td>882992080364220416</td>\n",
       "      <td>https://pbs.twimg.com/media/DEEEnIqXYAAiJh_.jpg</td>\n",
       "      <td>1</td>\n",
       "      <td>Eskimo_dog</td>\n",
       "      <td>0.466778</td>\n",
       "      <td>True</td>\n",
       "      <td>Siberian_husky</td>\n",
       "      <td>0.406044</td>\n",
       "      <td>True</td>\n",
       "      <td>dingo</td>\n",
       "      <td>0.073414</td>\n",
       "      <td>False</td>\n",
       "    </tr>\n",
       "    <tr>\n",
       "      <td>787</td>\n",
       "      <td>690374419777196032</td>\n",
       "      <td>https://pbs.twimg.com/media/CZSz3vWXEAACElU.jpg</td>\n",
       "      <td>1</td>\n",
       "      <td>kuvasz</td>\n",
       "      <td>0.286345</td>\n",
       "      <td>True</td>\n",
       "      <td>Labrador_retriever</td>\n",
       "      <td>0.107144</td>\n",
       "      <td>True</td>\n",
       "      <td>ice_bear</td>\n",
       "      <td>0.085086</td>\n",
       "      <td>False</td>\n",
       "    </tr>\n",
       "    <tr>\n",
       "      <td>1503</td>\n",
       "      <td>784826020293709826</td>\n",
       "      <td>https://pbs.twimg.com/media/CuRDF-XWcAIZSer.jpg</td>\n",
       "      <td>1</td>\n",
       "      <td>chow</td>\n",
       "      <td>0.090341</td>\n",
       "      <td>True</td>\n",
       "      <td>binoculars</td>\n",
       "      <td>0.083499</td>\n",
       "      <td>False</td>\n",
       "      <td>Irish_setter</td>\n",
       "      <td>0.077456</td>\n",
       "      <td>True</td>\n",
       "    </tr>\n",
       "    <tr>\n",
       "      <td>52</td>\n",
       "      <td>666996132027977728</td>\n",
       "      <td>https://pbs.twimg.com/media/CUGlb6iUwAITEbW.jpg</td>\n",
       "      <td>1</td>\n",
       "      <td>hay</td>\n",
       "      <td>0.507637</td>\n",
       "      <td>False</td>\n",
       "      <td>Rottweiler</td>\n",
       "      <td>0.062490</td>\n",
       "      <td>True</td>\n",
       "      <td>water_buffalo</td>\n",
       "      <td>0.048425</td>\n",
       "      <td>False</td>\n",
       "    </tr>\n",
       "  </tbody>\n",
       "</table>\n",
       "</div>"
      ],
      "text/plain": [
       "                tweet_id                                          jpg_url  \\\n",
       "1271  749996283729883136  https://pbs.twimg.com/media/CmfoyrrW8AA8v7w.jpg   \n",
       "2030  882992080364220416  https://pbs.twimg.com/media/DEEEnIqXYAAiJh_.jpg   \n",
       "787   690374419777196032  https://pbs.twimg.com/media/CZSz3vWXEAACElU.jpg   \n",
       "1503  784826020293709826  https://pbs.twimg.com/media/CuRDF-XWcAIZSer.jpg   \n",
       "52    666996132027977728  https://pbs.twimg.com/media/CUGlb6iUwAITEbW.jpg   \n",
       "\n",
       "      img_num                    p1   p1_conf  p1_dog  \\\n",
       "1271  1        Old_English_sheepdog  0.515319  True     \n",
       "2030  1        Eskimo_dog            0.466778  True     \n",
       "787   1        kuvasz                0.286345  True     \n",
       "1503  1        chow                  0.090341  True     \n",
       "52    1        hay                   0.507637  False    \n",
       "\n",
       "                               p2   p2_conf  p2_dog  \\\n",
       "1271  West_Highland_white_terrier  0.151040  True     \n",
       "2030  Siberian_husky               0.406044  True     \n",
       "787   Labrador_retriever           0.107144  True     \n",
       "1503  binoculars                   0.083499  False    \n",
       "52    Rottweiler                   0.062490  True     \n",
       "\n",
       "                               p3   p3_conf  p3_dog  \n",
       "1271  soft-coated_wheaten_terrier  0.056420  True    \n",
       "2030  dingo                        0.073414  False   \n",
       "787   ice_bear                     0.085086  False   \n",
       "1503  Irish_setter                 0.077456  True    \n",
       "52    water_buffalo                0.048425  False   "
      ]
     },
     "execution_count": 125,
     "metadata": {},
     "output_type": "execute_result"
    }
   ],
   "source": [
    "images_predictions.sample(5)"
   ]
  },
  {
   "cell_type": "code",
   "execution_count": 126,
   "metadata": {},
   "outputs": [
    {
     "data": {
      "text/plain": [
       "1    1780\n",
       "2    198 \n",
       "3    66  \n",
       "4    31  \n",
       "Name: img_num, dtype: int64"
      ]
     },
     "execution_count": 126,
     "metadata": {},
     "output_type": "execute_result"
    }
   ],
   "source": [
    "images_predictions.img_num.value_counts()"
   ]
  },
  {
   "cell_type": "code",
   "execution_count": 127,
   "metadata": {},
   "outputs": [
    {
     "data": {
      "text/html": [
       "<div>\n",
       "<style scoped>\n",
       "    .dataframe tbody tr th:only-of-type {\n",
       "        vertical-align: middle;\n",
       "    }\n",
       "\n",
       "    .dataframe tbody tr th {\n",
       "        vertical-align: top;\n",
       "    }\n",
       "\n",
       "    .dataframe thead th {\n",
       "        text-align: right;\n",
       "    }\n",
       "</style>\n",
       "<table border=\"1\" class=\"dataframe\">\n",
       "  <thead>\n",
       "    <tr style=\"text-align: right;\">\n",
       "      <th></th>\n",
       "      <th>tweet_id</th>\n",
       "      <th>jpg_url</th>\n",
       "      <th>img_num</th>\n",
       "      <th>p1</th>\n",
       "      <th>p1_conf</th>\n",
       "      <th>p1_dog</th>\n",
       "      <th>p2</th>\n",
       "      <th>p2_conf</th>\n",
       "      <th>p2_dog</th>\n",
       "      <th>p3</th>\n",
       "      <th>p3_conf</th>\n",
       "      <th>p3_dog</th>\n",
       "    </tr>\n",
       "  </thead>\n",
       "  <tbody>\n",
       "    <tr>\n",
       "      <td>106</td>\n",
       "      <td>667866724293877760</td>\n",
       "      <td>https://pbs.twimg.com/media/CUS9PlUWwAANeAD.jpg</td>\n",
       "      <td>1</td>\n",
       "      <td>jigsaw_puzzle</td>\n",
       "      <td>1.0</td>\n",
       "      <td>False</td>\n",
       "      <td>prayer_rug</td>\n",
       "      <td>1.011300e-08</td>\n",
       "      <td>False</td>\n",
       "      <td>doormat</td>\n",
       "      <td>1.740170e-10</td>\n",
       "      <td>False</td>\n",
       "    </tr>\n",
       "  </tbody>\n",
       "</table>\n",
       "</div>"
      ],
      "text/plain": [
       "               tweet_id                                          jpg_url  \\\n",
       "106  667866724293877760  https://pbs.twimg.com/media/CUS9PlUWwAANeAD.jpg   \n",
       "\n",
       "     img_num             p1  p1_conf  p1_dog          p2       p2_conf  \\\n",
       "106  1        jigsaw_puzzle  1.0      False   prayer_rug  1.011300e-08   \n",
       "\n",
       "     p2_dog       p3       p3_conf  p3_dog  \n",
       "106  False   doormat  1.740170e-10  False   "
      ]
     },
     "execution_count": 127,
     "metadata": {},
     "output_type": "execute_result"
    }
   ],
   "source": [
    "images_predictions[images_predictions['p1_conf'] == 1]"
   ]
  },
  {
   "cell_type": "code",
   "execution_count": 128,
   "metadata": {},
   "outputs": [
    {
     "data": {
      "text/plain": [
       "golden_retriever      150\n",
       "Labrador_retriever    100\n",
       "Pembroke              89 \n",
       "Chihuahua             83 \n",
       "pug                   57 \n",
       "                      .. \n",
       "school_bus            1  \n",
       "hammer                1  \n",
       "Japanese_spaniel      1  \n",
       "piggy_bank            1  \n",
       "sliding_door          1  \n",
       "Name: p1, Length: 378, dtype: int64"
      ]
     },
     "execution_count": 128,
     "metadata": {},
     "output_type": "execute_result"
    }
   ],
   "source": [
    "images_predictions.p1.value_counts()"
   ]
  },
  {
   "cell_type": "code",
   "execution_count": 129,
   "metadata": {},
   "outputs": [
    {
     "data": {
      "text/plain": [
       "Labrador_retriever    104\n",
       "golden_retriever      92 \n",
       "Cardigan              73 \n",
       "Chihuahua             44 \n",
       "Pomeranian            42 \n",
       "                      .. \n",
       "birdhouse             1  \n",
       "breastplate           1  \n",
       "bannister             1  \n",
       "sweatshirt            1  \n",
       "tree_frog             1  \n",
       "Name: p2, Length: 405, dtype: int64"
      ]
     },
     "execution_count": 129,
     "metadata": {},
     "output_type": "execute_result"
    }
   ],
   "source": [
    "images_predictions.p2.value_counts()"
   ]
  },
  {
   "cell_type": "code",
   "execution_count": 130,
   "metadata": {},
   "outputs": [
    {
     "data": {
      "text/plain": [
       "Labrador_retriever    79\n",
       "Chihuahua             58\n",
       "golden_retriever      48\n",
       "Eskimo_dog            38\n",
       "kelpie                35\n",
       "                      ..\n",
       "park_bench            1 \n",
       "standard_schnauzer    1 \n",
       "chain                 1 \n",
       "rifle                 1 \n",
       "go-kart               1 \n",
       "Name: p3, Length: 408, dtype: int64"
      ]
     },
     "execution_count": 130,
     "metadata": {},
     "output_type": "execute_result"
    }
   ],
   "source": [
    "images_predictions.p3.value_counts()"
   ]
  },
  {
   "cell_type": "code",
   "execution_count": 131,
   "metadata": {},
   "outputs": [
    {
     "data": {
      "text/plain": [
       "17    tweet_id\n",
       "20    tweet_id\n",
       "dtype: object"
      ]
     },
     "execution_count": 131,
     "metadata": {},
     "output_type": "execute_result"
    }
   ],
   "source": [
    "all_columns = pd.Series(list(tweeter_archive) + list(tweeter_additional) + list(images_predictions))\n",
    "all_columns[all_columns.duplicated()]"
   ]
  },
  {
   "cell_type": "markdown",
   "metadata": {},
   "source": [
    "## Quality\n",
    "\n",
    "### 'tweeter_archive' table: \n",
    "- retweets and original tweets are mixed up. Retweets are not needed in our dataset.\n",
    "- Missing data in column: expanded_urls (can't clean)\n",
    "- Erroneous data types in columns: timestamp, retweeted_status_timestamp, tweet_id, in_reply_to_status_id, in_reply_to_user_id,retweeted_status_id, retweeted_status_user_id. Timestampe should be datetime type, the rest should be object type.\n",
    "- data type in column: rating_numerator should be float type.\n",
    "- Wrong rating data in columns: rating_numerator, rating_denominator\n",
    "- some ratings are for multiple dogs in columns: rating_numerator, rating_denominator.\n",
    "- Invalid rating denominator (0 in column: rating_denominator)\n",
    "- Wrong name in column 'name' like such, a, an, quite, the, etc.\n",
    "- Multiple dog phases for some records.\n",
    "- '+0000' is appended at the end of time in columns: timestamp, retweeted_status_timestamp\n",
    "- Duplicated urls in column 'expanded_urls'.\n",
    "- Tweet id '890971913173991426' has two different urls in column 'expanded_urls'. The second one is same as the one in 'jpf_url' in table 'df_image'\n",
    "\n",
    "### 'tweeter_additional' table:\n",
    "- Missing records(2339 instead of 2356)(can't clean)\n",
    "\n",
    "### 'images_predictions' table:\n",
    "- Missing records (2075 instead of 2356)(can't clean)\n",
    "- Some names are starting with lower letter and others are starting with capital letter in columns: p1, p2, p3\n",
    "- The column of 'jpg_url' is duplicated with column 'expanded_urls' in tweeter_archive table\n",
    "\n",
    "\n"
   ]
  },
  {
   "cell_type": "markdown",
   "metadata": {},
   "source": [
    "## Tidiness\n",
    "\n",
    "### 'tweeter_archive' table:\n",
    "- One variable in four columns: Doggo, floofer, Pupper, Puppo\n",
    "\n",
    "### 'tweeter_additional' table:\n",
    "-  table 'tweeter_additional' should be combined with table 'tweeter_archive'\n",
    "\n",
    "### 'images_predictions' table:\n",
    "- table 'images_predictions' should be combined with table 'tweeter_archive'"
   ]
  },
  {
   "cell_type": "markdown",
   "metadata": {},
   "source": [
    "## Clean"
   ]
  },
  {
   "cell_type": "code",
   "execution_count": 147,
   "metadata": {},
   "outputs": [],
   "source": [
    "tweeter_archive_clean = tweeter_archive.copy()\n",
    "tweeter_additional_clean = tweeter_additional.copy()\n",
    "images_predictions_clean = images_predictions.copy()"
   ]
  },
  {
   "cell_type": "markdown",
   "metadata": {},
   "source": [
    "### Quality"
   ]
  },
  {
   "cell_type": "markdown",
   "metadata": {},
   "source": [
    "#### 1. retweets and original tweets are mixed up. Retweets are not needed in our dataset."
   ]
  },
  {
   "cell_type": "markdown",
   "metadata": {},
   "source": [
    "##### Define\n",
    "Remove the records which are identfied as retweets(retweeted_status_id or in_reply_to_status_id is not empty). \n",
    "\n",
    "Note: I choose to handle this issue first becasue it will make the tweeter_archive_clean table much cleaner."
   ]
  },
  {
   "cell_type": "markdown",
   "metadata": {},
   "source": [
    "##### Code"
   ]
  },
  {
   "cell_type": "code",
   "execution_count": 148,
   "metadata": {},
   "outputs": [],
   "source": [
    "# remove the tweets with retweeted_status_id or in_reply_to_status_id not empty.\n",
    "tweeter_archive_clean = tweeter_archive_clean[tweeter_archive_clean['retweeted_status_id'].isnull() & tweeter_archive_clean['in_reply_to_status_id'].isnull()]\n",
    "\n",
    "# drop these columns since there are no more data\n",
    "tweeter_archive_clean = tweeter_archive_clean.drop(['in_reply_to_status_id', 'in_reply_to_user_id', 'retweeted_status_id', 'retweeted_status_user_id', 'retweeted_status_timestamp'],axis = 1)"
   ]
  },
  {
   "cell_type": "markdown",
   "metadata": {},
   "source": [
    "##### Test"
   ]
  },
  {
   "cell_type": "code",
   "execution_count": 149,
   "metadata": {},
   "outputs": [
    {
     "name": "stdout",
     "output_type": "stream",
     "text": [
      "<class 'pandas.core.frame.DataFrame'>\n",
      "Int64Index: 2097 entries, 0 to 2355\n",
      "Data columns (total 12 columns):\n",
      "tweet_id              2097 non-null int64\n",
      "timestamp             2097 non-null object\n",
      "source                2097 non-null object\n",
      "text                  2097 non-null object\n",
      "expanded_urls         2094 non-null object\n",
      "rating_numerator      2097 non-null int64\n",
      "rating_denominator    2097 non-null int64\n",
      "name                  2097 non-null object\n",
      "doggo                 2097 non-null object\n",
      "floofer               2097 non-null object\n",
      "pupper                2097 non-null object\n",
      "puppo                 2097 non-null object\n",
      "dtypes: int64(3), object(9)\n",
      "memory usage: 213.0+ KB\n"
     ]
    }
   ],
   "source": [
    "tweeter_archive_clean.info()"
   ]
  },
  {
   "cell_type": "markdown",
   "metadata": {},
   "source": [
    "#### 2. The column 'jpg_url' in 'images_predictions' table is duplicated with column 'expanded_urls' in tweeter_archive table"
   ]
  },
  {
   "cell_type": "markdown",
   "metadata": {},
   "source": [
    "###### define\n",
    "Remove the column 'jpg_url' from 'images_predictions' table"
   ]
  },
  {
   "cell_type": "markdown",
   "metadata": {},
   "source": [
    "##### code"
   ]
  },
  {
   "cell_type": "code",
   "execution_count": 150,
   "metadata": {},
   "outputs": [],
   "source": [
    "images_predictions_clean = images_predictions_clean.drop('jpg_url', axis=1)"
   ]
  },
  {
   "cell_type": "markdown",
   "metadata": {},
   "source": [
    "##### test"
   ]
  },
  {
   "cell_type": "code",
   "execution_count": 151,
   "metadata": {},
   "outputs": [
    {
     "name": "stdout",
     "output_type": "stream",
     "text": [
      "<class 'pandas.core.frame.DataFrame'>\n",
      "RangeIndex: 2075 entries, 0 to 2074\n",
      "Data columns (total 11 columns):\n",
      "tweet_id    2075 non-null int64\n",
      "img_num     2075 non-null int64\n",
      "p1          2075 non-null object\n",
      "p1_conf     2075 non-null float64\n",
      "p1_dog      2075 non-null bool\n",
      "p2          2075 non-null object\n",
      "p2_conf     2075 non-null float64\n",
      "p2_dog      2075 non-null bool\n",
      "p3          2075 non-null object\n",
      "p3_conf     2075 non-null float64\n",
      "p3_dog      2075 non-null bool\n",
      "dtypes: bool(3), float64(3), int64(2), object(3)\n",
      "memory usage: 135.9+ KB\n"
     ]
    }
   ],
   "source": [
    "images_predictions_clean.info()"
   ]
  },
  {
   "cell_type": "markdown",
   "metadata": {},
   "source": [
    "### Tidiness"
   ]
  },
  {
   "cell_type": "markdown",
   "metadata": {},
   "source": [
    "#### 1. One variable in four columns(Doggo, floofer Pupper, Puppo) in 'tweeter_archive' table"
   ]
  },
  {
   "cell_type": "markdown",
   "metadata": {},
   "source": [
    "##### Define\n",
    "Melt/Combine the 'Doggo', 'floofer', 'Pupper', 'Puppo' columns to a 'dog_stage' column "
   ]
  },
  {
   "cell_type": "markdown",
   "metadata": {},
   "source": [
    "##### Code"
   ]
  },
  {
   "cell_type": "code",
   "execution_count": 152,
   "metadata": {},
   "outputs": [],
   "source": [
    "tweeter_archive_clean.doggo.replace('None','',inplace=True)\n",
    "tweeter_archive_clean.pupper.replace('None','',inplace=True)\n",
    "tweeter_archive_clean.floofer.replace('None','',inplace=True)\n",
    "tweeter_archive_clean.puppo.replace('None','',inplace=True)\n",
    "\n",
    "tweeter_archive_clean['dog_stage'] = tweeter_archive_clean.doggo + tweeter_archive_clean.pupper + \\\n",
    "                                  tweeter_archive_clean.floofer + tweeter_archive_clean.puppo\n"
   ]
  },
  {
   "cell_type": "code",
   "execution_count": 153,
   "metadata": {},
   "outputs": [],
   "source": [
    "# Handle multiple stages with loc and missing value\n",
    "tweeter_archive_clean.loc[tweeter_archive_clean.dog_stage == 'doggopupper', 'dog_stage'] = 'doggo,pupper'\n",
    "tweeter_archive_clean.loc[tweeter_archive_clean.dog_stage == 'doggofloofer', 'dog_stage'] = 'doggo,floofer'\n",
    "tweeter_archive_clean.loc[tweeter_archive_clean.dog_stage == 'doggopuppo', 'dog_stage'] = 'doggo,puppo'\n",
    "tweeter_archive_clean.loc[tweeter_archive_clean.dog_stage == '', 'dog_stage'] = np.nan\n",
    "\n",
    "# Drop the columns 'doggo','floofer', 'pupper' and 'puppo'\n",
    "tweeter_archive_clean = tweeter_archive_clean.drop(['doggo', 'floofer', 'pupper', 'puppo'], axis = 1)"
   ]
  },
  {
   "cell_type": "markdown",
   "metadata": {},
   "source": [
    "##### Test"
   ]
  },
  {
   "cell_type": "code",
   "execution_count": 156,
   "metadata": {},
   "outputs": [
    {
     "data": {
      "text/plain": [
       "pupper           221\n",
       "doggo            72 \n",
       "puppo            23 \n",
       "doggo,pupper     9  \n",
       "floofer          9  \n",
       "doggo,puppo      1  \n",
       "doggo,floofer    1  \n",
       "Name: dog_stage, dtype: int64"
      ]
     },
     "execution_count": 156,
     "metadata": {},
     "output_type": "execute_result"
    }
   ],
   "source": [
    "tweeter_archive_clean.dog_stage.value_counts()"
   ]
  },
  {
   "cell_type": "code",
   "execution_count": 157,
   "metadata": {},
   "outputs": [
    {
     "name": "stdout",
     "output_type": "stream",
     "text": [
      "<class 'pandas.core.frame.DataFrame'>\n",
      "Int64Index: 2097 entries, 0 to 2355\n",
      "Data columns (total 9 columns):\n",
      "tweet_id              2097 non-null int64\n",
      "timestamp             2097 non-null object\n",
      "source                2097 non-null object\n",
      "text                  2097 non-null object\n",
      "expanded_urls         2094 non-null object\n",
      "rating_numerator      2097 non-null int64\n",
      "rating_denominator    2097 non-null int64\n",
      "name                  2097 non-null object\n",
      "dog_stage             336 non-null object\n",
      "dtypes: int64(3), object(6)\n",
      "memory usage: 163.8+ KB\n"
     ]
    }
   ],
   "source": [
    "tweeter_archive_clean.info()"
   ]
  },
  {
   "cell_type": "markdown",
   "metadata": {},
   "source": [
    "#### 2. Table 'tweeter_additional' can be combined with table 'tweeter_archive'\n",
    "#### 3. Table 'images_predictions' should be combined with table 'tweeter_archive'"
   ]
  },
  {
   "cell_type": "markdown",
   "metadata": {},
   "source": [
    "##### define\n",
    "\n",
    "Merge the columns in table 'tweeter_additional' and 'images_predictions' to table 'tweeter_archive_clean', joining on 'tweet_id' column"
   ]
  },
  {
   "cell_type": "markdown",
   "metadata": {},
   "source": [
    "##### code"
   ]
  },
  {
   "cell_type": "code",
   "execution_count": 60,
   "metadata": {},
   "outputs": [],
   "source": [
    "# merge table tweeter_archive_clean and tweeter_additional_clean\n",
    "tweeter_archive_clean = pd.merge(tweeter_archive_clean, tweeter_additional_clean,\n",
    "                            on=['tweet_id'], how='left')\n",
    "\n",
    "# merge table images_predictions and tweeter_additional_clean\n",
    "tweeter_archive_clean = pd.merge(tweeter_archive_clean, images_predictions_clean,\n",
    "                            on=['tweet_id'], how='left')"
   ]
  },
  {
   "cell_type": "code",
   "execution_count": 61,
   "metadata": {},
   "outputs": [],
   "source": [
    "# replace null value in column retweet_count and favorite_count with 0.\n",
    "tweeter_archive_clean.retweet_count.replace(np.nan,0, inplace=True)\n",
    "tweeter_archive_clean.favorite_count.replace(np.nan,0, inplace=True)\n",
    "\n",
    "# after merging the data type of retweet_count and favorite_count has been changed to float type. Change it back to integer type.\n",
    "tweeter_archive_clean.retweet_count = tweeter_archive_clean.retweet_count.astype(int)\n",
    "tweeter_archive_clean.favorite_count = tweeter_archive_clean.favorite_count.astype(int)"
   ]
  },
  {
   "cell_type": "markdown",
   "metadata": {},
   "source": [
    "##### test"
   ]
  },
  {
   "cell_type": "code",
   "execution_count": 62,
   "metadata": {},
   "outputs": [
    {
     "name": "stdout",
     "output_type": "stream",
     "text": [
      "<class 'pandas.core.frame.DataFrame'>\n",
      "Int64Index: 2097 entries, 0 to 2096\n",
      "Data columns (total 21 columns):\n",
      "tweet_id              2097 non-null int64\n",
      "timestamp             2097 non-null object\n",
      "source                2097 non-null object\n",
      "text                  2097 non-null object\n",
      "expanded_urls         2094 non-null object\n",
      "rating_numerator      2097 non-null int64\n",
      "rating_denominator    2097 non-null int64\n",
      "name                  2097 non-null object\n",
      "dog_stage             336 non-null object\n",
      "retweet_count         2097 non-null int32\n",
      "favorite_count        2097 non-null int32\n",
      "img_num               1971 non-null float64\n",
      "p1                    1971 non-null object\n",
      "p1_conf               1971 non-null float64\n",
      "p1_dog                1971 non-null object\n",
      "p2                    1971 non-null object\n",
      "p2_conf               1971 non-null float64\n",
      "p2_dog                1971 non-null object\n",
      "p3                    1971 non-null object\n",
      "p3_conf               1971 non-null float64\n",
      "p3_dog                1971 non-null object\n",
      "dtypes: float64(4), int32(2), int64(3), object(12)\n",
      "memory usage: 344.0+ KB\n"
     ]
    }
   ],
   "source": [
    "tweeter_archive_clean.info()"
   ]
  },
  {
   "cell_type": "markdown",
   "metadata": {},
   "source": [
    "### Quality"
   ]
  },
  {
   "cell_type": "markdown",
   "metadata": {},
   "source": [
    "3. Erroneous data types in columns: timestamp, tweet_id, retweeted_status_timestamp, in_reply_to_status_id, in_reply_to_user_id,retweeted_status_id and retweeted_status_user_id. Timestampe should be datetime type, the rest should be object type(i.e. string).\n",
    "\n",
    "4. '+0000' is appended at the end of time in columns: timestamp, retweeted_status_timestamp\n"
   ]
  },
  {
   "cell_type": "markdown",
   "metadata": {},
   "source": [
    "#### define\n",
    "- Remove '+0000' from the end of every timestammp by string slicing and convert Timestampe column's data type from a string to datetime type using to_datetime.\n",
    "- Convert tweet_id column's data type from integer to object type(string)\n",
    "- columns retweeted_status_timestamp, in_reply_to_status_id, in_reply_to_user_id,retweeted_status_id and retweeted_status_user_id have already been taken care of during cleaning the tidiness issues."
   ]
  },
  {
   "cell_type": "markdown",
   "metadata": {},
   "source": [
    "#### code"
   ]
  },
  {
   "cell_type": "code",
   "execution_count": 63,
   "metadata": {},
   "outputs": [],
   "source": [
    "# remove '+0000'\n",
    "tweeter_archive_clean.timestamp = tweeter_archive_clean.timestamp.str[:-5]\n",
    "\n",
    "# to datetime\n",
    "tweeter_archive_clean.timestamp = pd.to_datetime(tweeter_archive_clean.timestamp)\n",
    "\n",
    "# to object type\n",
    "tweeter_archive_clean.tweet_id = tweeter_archive_clean.tweet_id.astype(str)"
   ]
  },
  {
   "cell_type": "markdown",
   "metadata": {},
   "source": [
    "##### test"
   ]
  },
  {
   "cell_type": "code",
   "execution_count": 64,
   "metadata": {},
   "outputs": [
    {
     "name": "stdout",
     "output_type": "stream",
     "text": [
      "<class 'pandas.core.frame.DataFrame'>\n",
      "Int64Index: 2097 entries, 0 to 2096\n",
      "Data columns (total 21 columns):\n",
      "tweet_id              2097 non-null object\n",
      "timestamp             2097 non-null datetime64[ns]\n",
      "source                2097 non-null object\n",
      "text                  2097 non-null object\n",
      "expanded_urls         2094 non-null object\n",
      "rating_numerator      2097 non-null int64\n",
      "rating_denominator    2097 non-null int64\n",
      "name                  2097 non-null object\n",
      "dog_stage             336 non-null object\n",
      "retweet_count         2097 non-null int32\n",
      "favorite_count        2097 non-null int32\n",
      "img_num               1971 non-null float64\n",
      "p1                    1971 non-null object\n",
      "p1_conf               1971 non-null float64\n",
      "p1_dog                1971 non-null object\n",
      "p2                    1971 non-null object\n",
      "p2_conf               1971 non-null float64\n",
      "p2_dog                1971 non-null object\n",
      "p3                    1971 non-null object\n",
      "p3_conf               1971 non-null float64\n",
      "p3_dog                1971 non-null object\n",
      "dtypes: datetime64[ns](1), float64(4), int32(2), int64(2), object(12)\n",
      "memory usage: 344.0+ KB\n"
     ]
    }
   ],
   "source": [
    "tweeter_archive_clean.info()"
   ]
  },
  {
   "cell_type": "code",
   "execution_count": 65,
   "metadata": {},
   "outputs": [
    {
     "data": {
      "text/html": [
       "<div>\n",
       "<style scoped>\n",
       "    .dataframe tbody tr th:only-of-type {\n",
       "        vertical-align: middle;\n",
       "    }\n",
       "\n",
       "    .dataframe tbody tr th {\n",
       "        vertical-align: top;\n",
       "    }\n",
       "\n",
       "    .dataframe thead th {\n",
       "        text-align: right;\n",
       "    }\n",
       "</style>\n",
       "<table border=\"1\" class=\"dataframe\">\n",
       "  <thead>\n",
       "    <tr style=\"text-align: right;\">\n",
       "      <th></th>\n",
       "      <th>tweet_id</th>\n",
       "      <th>timestamp</th>\n",
       "      <th>source</th>\n",
       "      <th>text</th>\n",
       "      <th>expanded_urls</th>\n",
       "      <th>rating_numerator</th>\n",
       "      <th>rating_denominator</th>\n",
       "      <th>name</th>\n",
       "      <th>dog_stage</th>\n",
       "      <th>retweet_count</th>\n",
       "      <th>...</th>\n",
       "      <th>img_num</th>\n",
       "      <th>p1</th>\n",
       "      <th>p1_conf</th>\n",
       "      <th>p1_dog</th>\n",
       "      <th>p2</th>\n",
       "      <th>p2_conf</th>\n",
       "      <th>p2_dog</th>\n",
       "      <th>p3</th>\n",
       "      <th>p3_conf</th>\n",
       "      <th>p3_dog</th>\n",
       "    </tr>\n",
       "  </thead>\n",
       "  <tbody>\n",
       "    <tr>\n",
       "      <td>304</td>\n",
       "      <td>826848821049180160</td>\n",
       "      <td>2017-02-01 17:44:55</td>\n",
       "      <td>&lt;a href=\"http://twitter.com/download/iphone\" rel=\"nofollow\"&gt;Twitter for iPhone&lt;/a&gt;</td>\n",
       "      <td>This is Cupid. He was found in the trash. Now he's well on his way to prosthetic front legs and a long happy doggo life. 13/10 heroic af https://t.co/WS0Gha8vRh</td>\n",
       "      <td>https://twitter.com/dog_rates/status/826848821049180160/photo/1,https://twitter.com/dog_rates/status/826848821049180160/photo/1,https://twitter.com/dog_rates/status/826848821049180160/photo/1,https://twitter.com/dog_rates/status/826848821049180160/photo/1</td>\n",
       "      <td>13</td>\n",
       "      <td>10</td>\n",
       "      <td>Cupid</td>\n",
       "      <td>doggo</td>\n",
       "      <td>10328</td>\n",
       "      <td>...</td>\n",
       "      <td>4.0</td>\n",
       "      <td>Great_Pyrenees</td>\n",
       "      <td>0.858764</td>\n",
       "      <td>True</td>\n",
       "      <td>golden_retriever</td>\n",
       "      <td>0.023526</td>\n",
       "      <td>True</td>\n",
       "      <td>Pekinese</td>\n",
       "      <td>0.017104</td>\n",
       "      <td>True</td>\n",
       "    </tr>\n",
       "    <tr>\n",
       "      <td>1028</td>\n",
       "      <td>711694788429553666</td>\n",
       "      <td>2016-03-20 23:23:54</td>\n",
       "      <td>&lt;a href=\"http://twitter.com/download/iphone\" rel=\"nofollow\"&gt;Twitter for iPhone&lt;/a&gt;</td>\n",
       "      <td>Oh. My. God. 13/10 magical af https://t.co/Ezu6jQrKAZ</td>\n",
       "      <td>https://twitter.com/dog_rates/status/711694788429553666/photo/1</td>\n",
       "      <td>13</td>\n",
       "      <td>10</td>\n",
       "      <td>None</td>\n",
       "      <td>NaN</td>\n",
       "      <td>18297</td>\n",
       "      <td>...</td>\n",
       "      <td>1.0</td>\n",
       "      <td>brown_bear</td>\n",
       "      <td>0.713293</td>\n",
       "      <td>False</td>\n",
       "      <td>Indian_elephant</td>\n",
       "      <td>0.172844</td>\n",
       "      <td>False</td>\n",
       "      <td>water_buffalo</td>\n",
       "      <td>0.038902</td>\n",
       "      <td>False</td>\n",
       "    </tr>\n",
       "    <tr>\n",
       "      <td>1352</td>\n",
       "      <td>687102708889812993</td>\n",
       "      <td>2016-01-13 02:43:46</td>\n",
       "      <td>&lt;a href=\"http://twitter.com/download/iphone\" rel=\"nofollow\"&gt;Twitter for iPhone&lt;/a&gt;</td>\n",
       "      <td>Army of water dogs here. None of them know where they're going. Have no real purpose. Aggressive barks. 5/10 for all https://t.co/A88x73TwMN</td>\n",
       "      <td>https://twitter.com/dog_rates/status/687102708889812993/photo/1</td>\n",
       "      <td>5</td>\n",
       "      <td>10</td>\n",
       "      <td>None</td>\n",
       "      <td>NaN</td>\n",
       "      <td>981</td>\n",
       "      <td>...</td>\n",
       "      <td>1.0</td>\n",
       "      <td>fiddler_crab</td>\n",
       "      <td>0.992069</td>\n",
       "      <td>False</td>\n",
       "      <td>quail</td>\n",
       "      <td>0.002491</td>\n",
       "      <td>False</td>\n",
       "      <td>rock_crab</td>\n",
       "      <td>0.001513</td>\n",
       "      <td>False</td>\n",
       "    </tr>\n",
       "    <tr>\n",
       "      <td>91</td>\n",
       "      <td>872122724285648897</td>\n",
       "      <td>2017-06-06 16:07:15</td>\n",
       "      <td>&lt;a href=\"http://twitter.com/download/iphone\" rel=\"nofollow\"&gt;Twitter for iPhone&lt;/a&gt;</td>\n",
       "      <td>This is Kody. He's a baller. Wishes he was a little bit taller. Double dribbles often. Still 12/10 would happily get dunked on https://t.co/PKSpmiefwN</td>\n",
       "      <td>https://twitter.com/dog_rates/status/872122724285648897/photo/1,https://twitter.com/dog_rates/status/872122724285648897/photo/1</td>\n",
       "      <td>12</td>\n",
       "      <td>10</td>\n",
       "      <td>Kody</td>\n",
       "      <td>NaN</td>\n",
       "      <td>7503</td>\n",
       "      <td>...</td>\n",
       "      <td>1.0</td>\n",
       "      <td>basketball</td>\n",
       "      <td>0.808396</td>\n",
       "      <td>False</td>\n",
       "      <td>pug</td>\n",
       "      <td>0.066736</td>\n",
       "      <td>True</td>\n",
       "      <td>dalmatian</td>\n",
       "      <td>0.054570</td>\n",
       "      <td>True</td>\n",
       "    </tr>\n",
       "    <tr>\n",
       "      <td>678</td>\n",
       "      <td>760893934457552897</td>\n",
       "      <td>2016-08-03 17:43:45</td>\n",
       "      <td>&lt;a href=\"http://twitter.com/download/iphone\" rel=\"nofollow\"&gt;Twitter for iPhone&lt;/a&gt;</td>\n",
       "      <td>This is Wishes. He has the day off. Daily struggles of being a doggo have finally caught up with him. 11/10 https://t.co/H9YgrUkYwa</td>\n",
       "      <td>https://twitter.com/dog_rates/status/760893934457552897/photo/1</td>\n",
       "      <td>11</td>\n",
       "      <td>10</td>\n",
       "      <td>Wishes</td>\n",
       "      <td>doggo</td>\n",
       "      <td>989</td>\n",
       "      <td>...</td>\n",
       "      <td>1.0</td>\n",
       "      <td>Blenheim_spaniel</td>\n",
       "      <td>0.113992</td>\n",
       "      <td>True</td>\n",
       "      <td>cocker_spaniel</td>\n",
       "      <td>0.105780</td>\n",
       "      <td>True</td>\n",
       "      <td>borzoi</td>\n",
       "      <td>0.073935</td>\n",
       "      <td>True</td>\n",
       "    </tr>\n",
       "  </tbody>\n",
       "</table>\n",
       "<p>5 rows × 21 columns</p>\n",
       "</div>"
      ],
      "text/plain": [
       "                tweet_id           timestamp  \\\n",
       "304   826848821049180160 2017-02-01 17:44:55   \n",
       "1028  711694788429553666 2016-03-20 23:23:54   \n",
       "1352  687102708889812993 2016-01-13 02:43:46   \n",
       "91    872122724285648897 2017-06-06 16:07:15   \n",
       "678   760893934457552897 2016-08-03 17:43:45   \n",
       "\n",
       "                                                                                  source  \\\n",
       "304   <a href=\"http://twitter.com/download/iphone\" rel=\"nofollow\">Twitter for iPhone</a>   \n",
       "1028  <a href=\"http://twitter.com/download/iphone\" rel=\"nofollow\">Twitter for iPhone</a>   \n",
       "1352  <a href=\"http://twitter.com/download/iphone\" rel=\"nofollow\">Twitter for iPhone</a>   \n",
       "91    <a href=\"http://twitter.com/download/iphone\" rel=\"nofollow\">Twitter for iPhone</a>   \n",
       "678   <a href=\"http://twitter.com/download/iphone\" rel=\"nofollow\">Twitter for iPhone</a>   \n",
       "\n",
       "                                                                                                                                                                  text  \\\n",
       "304   This is Cupid. He was found in the trash. Now he's well on his way to prosthetic front legs and a long happy doggo life. 13/10 heroic af https://t.co/WS0Gha8vRh   \n",
       "1028  Oh. My. God. 13/10 magical af https://t.co/Ezu6jQrKAZ                                                                                                              \n",
       "1352  Army of water dogs here. None of them know where they're going. Have no real purpose. Aggressive barks. 5/10 for all https://t.co/A88x73TwMN                       \n",
       "91    This is Kody. He's a baller. Wishes he was a little bit taller. Double dribbles often. Still 12/10 would happily get dunked on https://t.co/PKSpmiefwN             \n",
       "678   This is Wishes. He has the day off. Daily struggles of being a doggo have finally caught up with him. 11/10 https://t.co/H9YgrUkYwa                                \n",
       "\n",
       "                                                                                                                                                                                                                                                        expanded_urls  \\\n",
       "304   https://twitter.com/dog_rates/status/826848821049180160/photo/1,https://twitter.com/dog_rates/status/826848821049180160/photo/1,https://twitter.com/dog_rates/status/826848821049180160/photo/1,https://twitter.com/dog_rates/status/826848821049180160/photo/1   \n",
       "1028  https://twitter.com/dog_rates/status/711694788429553666/photo/1                                                                                                                                                                                                   \n",
       "1352  https://twitter.com/dog_rates/status/687102708889812993/photo/1                                                                                                                                                                                                   \n",
       "91    https://twitter.com/dog_rates/status/872122724285648897/photo/1,https://twitter.com/dog_rates/status/872122724285648897/photo/1                                                                                                                                   \n",
       "678   https://twitter.com/dog_rates/status/760893934457552897/photo/1                                                                                                                                                                                                   \n",
       "\n",
       "      rating_numerator  rating_denominator    name dog_stage  retweet_count  \\\n",
       "304   13                10                  Cupid   doggo     10328           \n",
       "1028  13                10                  None    NaN       18297           \n",
       "1352  5                 10                  None    NaN       981             \n",
       "91    12                10                  Kody    NaN       7503            \n",
       "678   11                10                  Wishes  doggo     989             \n",
       "\n",
       "      ...  img_num                p1   p1_conf  p1_dog                p2  \\\n",
       "304   ...  4.0      Great_Pyrenees    0.858764  True    golden_retriever   \n",
       "1028  ...  1.0      brown_bear        0.713293  False   Indian_elephant    \n",
       "1352  ...  1.0      fiddler_crab      0.992069  False   quail              \n",
       "91    ...  1.0      basketball        0.808396  False   pug                \n",
       "678   ...  1.0      Blenheim_spaniel  0.113992  True    cocker_spaniel     \n",
       "\n",
       "       p2_conf  p2_dog             p3   p3_conf  p3_dog  \n",
       "304   0.023526  True    Pekinese       0.017104  True    \n",
       "1028  0.172844  False   water_buffalo  0.038902  False   \n",
       "1352  0.002491  False   rock_crab      0.001513  False   \n",
       "91    0.066736  True    dalmatian      0.054570  True    \n",
       "678   0.105780  True    borzoi         0.073935  True    \n",
       "\n",
       "[5 rows x 21 columns]"
      ]
     },
     "execution_count": 65,
     "metadata": {},
     "output_type": "execute_result"
    }
   ],
   "source": [
    "tweeter_archive_clean.sample(5)"
   ]
  },
  {
   "cell_type": "markdown",
   "metadata": {},
   "source": [
    "#### 5.  rating_numerator should be float type instead of integer."
   ]
  },
  {
   "cell_type": "markdown",
   "metadata": {},
   "source": [
    "#### define\n",
    "Convert rating_numerator column's data type from integer to float type."
   ]
  },
  {
   "cell_type": "markdown",
   "metadata": {},
   "source": [
    "#### code"
   ]
  },
  {
   "cell_type": "code",
   "execution_count": 66,
   "metadata": {},
   "outputs": [],
   "source": [
    "tweeter_archive_clean.rating_numerator = tweeter_archive_clean.rating_numerator.astype(float)\n",
    "#tweeter_archive_clean.rating_denominator = tweeter_archive_clean.rating_denominator.astype(float)"
   ]
  },
  {
   "cell_type": "markdown",
   "metadata": {},
   "source": [
    "#### test"
   ]
  },
  {
   "cell_type": "code",
   "execution_count": 67,
   "metadata": {},
   "outputs": [
    {
     "name": "stdout",
     "output_type": "stream",
     "text": [
      "<class 'pandas.core.frame.DataFrame'>\n",
      "Int64Index: 2097 entries, 0 to 2096\n",
      "Data columns (total 21 columns):\n",
      "tweet_id              2097 non-null object\n",
      "timestamp             2097 non-null datetime64[ns]\n",
      "source                2097 non-null object\n",
      "text                  2097 non-null object\n",
      "expanded_urls         2094 non-null object\n",
      "rating_numerator      2097 non-null float64\n",
      "rating_denominator    2097 non-null int64\n",
      "name                  2097 non-null object\n",
      "dog_stage             336 non-null object\n",
      "retweet_count         2097 non-null int32\n",
      "favorite_count        2097 non-null int32\n",
      "img_num               1971 non-null float64\n",
      "p1                    1971 non-null object\n",
      "p1_conf               1971 non-null float64\n",
      "p1_dog                1971 non-null object\n",
      "p2                    1971 non-null object\n",
      "p2_conf               1971 non-null float64\n",
      "p2_dog                1971 non-null object\n",
      "p3                    1971 non-null object\n",
      "p3_conf               1971 non-null float64\n",
      "p3_dog                1971 non-null object\n",
      "dtypes: datetime64[ns](1), float64(5), int32(2), int64(1), object(12)\n",
      "memory usage: 344.0+ KB\n"
     ]
    }
   ],
   "source": [
    "tweeter_archive_clean.info()"
   ]
  },
  {
   "cell_type": "code",
   "execution_count": 68,
   "metadata": {},
   "outputs": [
    {
     "data": {
      "text/plain": [
       "12.0      486\n",
       "10.0      436\n",
       "11.0      413\n",
       "13.0      287\n",
       "9.0       153\n",
       "8.0       98 \n",
       "7.0       52 \n",
       "14.0      38 \n",
       "5.0       34 \n",
       "6.0       32 \n",
       "3.0       19 \n",
       "4.0       16 \n",
       "2.0       9  \n",
       "1.0       5  \n",
       "24.0      1  \n",
       "27.0      1  \n",
       "84.0      1  \n",
       "0.0       1  \n",
       "420.0     1  \n",
       "75.0      1  \n",
       "80.0      1  \n",
       "60.0      1  \n",
       "44.0      1  \n",
       "26.0      1  \n",
       "144.0     1  \n",
       "88.0      1  \n",
       "121.0     1  \n",
       "99.0      1  \n",
       "204.0     1  \n",
       "1776.0    1  \n",
       "45.0      1  \n",
       "165.0     1  \n",
       "50.0      1  \n",
       "Name: rating_numerator, dtype: int64"
      ]
     },
     "execution_count": 68,
     "metadata": {},
     "output_type": "execute_result"
    }
   ],
   "source": [
    "tweeter_archive_clean.rating_numerator.value_counts()"
   ]
  },
  {
   "cell_type": "markdown",
   "metadata": {},
   "source": [
    "#### 6. Some ratings are for multiple dogs in columns: rating_numerator, rating_denominator.\n",
    "#### 7. Invalid rating denominator (0 in column: rating_denominator)\n"
   ]
  },
  {
   "cell_type": "markdown",
   "metadata": {},
   "source": [
    "##### define\n",
    "1. The issue of 0 as rating donominator has been taken care of when removing the retweets.\n",
    "2. Remove the records with rating denominator being mulitple 10s since they are actually rated for multiple dogs. For data consistent purpose, I want to keep only a rating for a dog per records."
   ]
  },
  {
   "cell_type": "markdown",
   "metadata": {},
   "source": [
    "##### code"
   ]
  },
  {
   "cell_type": "code",
   "execution_count": 69,
   "metadata": {},
   "outputs": [],
   "source": [
    "tweeter_archive_clean = tweeter_archive_clean[(tweeter_archive_clean['rating_denominator'] == 10) |\n",
    "                                              ((tweeter_archive_clean['rating_denominator'] % 10) != 0)]"
   ]
  },
  {
   "cell_type": "markdown",
   "metadata": {},
   "source": [
    "##### test"
   ]
  },
  {
   "cell_type": "code",
   "execution_count": 70,
   "metadata": {},
   "outputs": [
    {
     "data": {
      "text/plain": [
       "10    2080\n",
       "11    2   \n",
       "7     1   \n",
       "2     1   \n",
       "Name: rating_denominator, dtype: int64"
      ]
     },
     "execution_count": 70,
     "metadata": {},
     "output_type": "execute_result"
    }
   ],
   "source": [
    "tweeter_archive_clean.rating_denominator.value_counts()"
   ]
  },
  {
   "cell_type": "markdown",
   "metadata": {},
   "source": [
    "#### 8. Wrong rating data in columns: rating_numerator, rating_denominator"
   ]
  },
  {
   "cell_type": "markdown",
   "metadata": {},
   "source": [
    "##### define\n",
    "Fix the specific records with wrong rating numerator and wrong rating denominator"
   ]
  },
  {
   "cell_type": "markdown",
   "metadata": {},
   "source": [
    "##### code"
   ]
  },
  {
   "cell_type": "code",
   "execution_count": 71,
   "metadata": {},
   "outputs": [
    {
     "data": {
      "text/html": [
       "<div>\n",
       "<style scoped>\n",
       "    .dataframe tbody tr th:only-of-type {\n",
       "        vertical-align: middle;\n",
       "    }\n",
       "\n",
       "    .dataframe tbody tr th {\n",
       "        vertical-align: top;\n",
       "    }\n",
       "\n",
       "    .dataframe thead th {\n",
       "        text-align: right;\n",
       "    }\n",
       "</style>\n",
       "<table border=\"1\" class=\"dataframe\">\n",
       "  <thead>\n",
       "    <tr style=\"text-align: right;\">\n",
       "      <th></th>\n",
       "      <th>tweet_id</th>\n",
       "      <th>timestamp</th>\n",
       "      <th>source</th>\n",
       "      <th>text</th>\n",
       "      <th>expanded_urls</th>\n",
       "      <th>rating_numerator</th>\n",
       "      <th>rating_denominator</th>\n",
       "      <th>name</th>\n",
       "      <th>dog_stage</th>\n",
       "      <th>retweet_count</th>\n",
       "      <th>...</th>\n",
       "      <th>img_num</th>\n",
       "      <th>p1</th>\n",
       "      <th>p1_conf</th>\n",
       "      <th>p1_dog</th>\n",
       "      <th>p2</th>\n",
       "      <th>p2_conf</th>\n",
       "      <th>p2_dog</th>\n",
       "      <th>p3</th>\n",
       "      <th>p3_conf</th>\n",
       "      <th>p3_dog</th>\n",
       "    </tr>\n",
       "  </thead>\n",
       "  <tbody>\n",
       "    <tr>\n",
       "      <td>403</td>\n",
       "      <td>810984652412424192</td>\n",
       "      <td>2016-12-19 23:06:23</td>\n",
       "      <td>&lt;a href=\"http://twitter.com/download/iphone\" rel=\"nofollow\"&gt;Twitter for iPhone&lt;/a&gt;</td>\n",
       "      <td>Meet Sam. She smiles 24/7 &amp;amp; secretly aspires to be a reindeer. \\nKeep Sam smiling by clicking and sharing this link:\\nhttps://t.co/98tB8y7y7t https://t.co/LouL5vdvxx</td>\n",
       "      <td>https://www.gofundme.com/sams-smile,https://twitter.com/dog_rates/status/810984652412424192/photo/1</td>\n",
       "      <td>24.0</td>\n",
       "      <td>7</td>\n",
       "      <td>Sam</td>\n",
       "      <td>NaN</td>\n",
       "      <td>1470</td>\n",
       "      <td>...</td>\n",
       "      <td>1.0</td>\n",
       "      <td>golden_retriever</td>\n",
       "      <td>0.871342</td>\n",
       "      <td>True</td>\n",
       "      <td>Tibetan_mastiff</td>\n",
       "      <td>0.036708</td>\n",
       "      <td>True</td>\n",
       "      <td>Labrador_retriever</td>\n",
       "      <td>0.025823</td>\n",
       "      <td>True</td>\n",
       "    </tr>\n",
       "    <tr>\n",
       "      <td>853</td>\n",
       "      <td>740373189193256964</td>\n",
       "      <td>2016-06-08 02:41:38</td>\n",
       "      <td>&lt;a href=\"http://twitter.com/download/iphone\" rel=\"nofollow\"&gt;Twitter for iPhone&lt;/a&gt;</td>\n",
       "      <td>After so many requests, this is Bretagne. She was the last surviving 9/11 search dog, and our second ever 14/10. RIP https://t.co/XAVDNDaVgQ</td>\n",
       "      <td>https://twitter.com/dog_rates/status/740373189193256964/photo/1,https://twitter.com/dog_rates/status/740373189193256964/photo/1,https://twitter.com/dog_rates/status/740373189193256964/photo/1,https://twitter.com/dog_rates/status/740373189193256964/photo/1</td>\n",
       "      <td>9.0</td>\n",
       "      <td>11</td>\n",
       "      <td>None</td>\n",
       "      <td>NaN</td>\n",
       "      <td>13335</td>\n",
       "      <td>...</td>\n",
       "      <td>3.0</td>\n",
       "      <td>golden_retriever</td>\n",
       "      <td>0.807644</td>\n",
       "      <td>True</td>\n",
       "      <td>kuvasz</td>\n",
       "      <td>0.101286</td>\n",
       "      <td>True</td>\n",
       "      <td>Labrador_retriever</td>\n",
       "      <td>0.023785</td>\n",
       "      <td>True</td>\n",
       "    </tr>\n",
       "    <tr>\n",
       "      <td>1426</td>\n",
       "      <td>682962037429899265</td>\n",
       "      <td>2016-01-01 16:30:13</td>\n",
       "      <td>&lt;a href=\"http://twitter.com/download/iphone\" rel=\"nofollow\"&gt;Twitter for iPhone&lt;/a&gt;</td>\n",
       "      <td>This is Darrel. He just robbed a 7/11 and is in a high speed police chase. Was just spotted by the helicopter 10/10 https://t.co/7EsP8LmSp5</td>\n",
       "      <td>https://twitter.com/dog_rates/status/682962037429899265/photo/1</td>\n",
       "      <td>7.0</td>\n",
       "      <td>11</td>\n",
       "      <td>Darrel</td>\n",
       "      <td>NaN</td>\n",
       "      <td>16595</td>\n",
       "      <td>...</td>\n",
       "      <td>1.0</td>\n",
       "      <td>dingo</td>\n",
       "      <td>0.278600</td>\n",
       "      <td>False</td>\n",
       "      <td>Chihuahua</td>\n",
       "      <td>0.155207</td>\n",
       "      <td>True</td>\n",
       "      <td>loupe</td>\n",
       "      <td>0.153598</td>\n",
       "      <td>False</td>\n",
       "    </tr>\n",
       "    <tr>\n",
       "      <td>2076</td>\n",
       "      <td>666287406224695296</td>\n",
       "      <td>2015-11-16 16:11:11</td>\n",
       "      <td>&lt;a href=\"http://twitter.com/download/iphone\" rel=\"nofollow\"&gt;Twitter for iPhone&lt;/a&gt;</td>\n",
       "      <td>This is an Albanian 3 1/2 legged  Episcopalian. Loves well-polished hardwood flooring. Penis on the collar. 9/10 https://t.co/d9NcXFKwLv</td>\n",
       "      <td>https://twitter.com/dog_rates/status/666287406224695296/photo/1</td>\n",
       "      <td>1.0</td>\n",
       "      <td>2</td>\n",
       "      <td>an</td>\n",
       "      <td>NaN</td>\n",
       "      <td>62</td>\n",
       "      <td>...</td>\n",
       "      <td>1.0</td>\n",
       "      <td>Maltese_dog</td>\n",
       "      <td>0.857531</td>\n",
       "      <td>True</td>\n",
       "      <td>toy_poodle</td>\n",
       "      <td>0.063064</td>\n",
       "      <td>True</td>\n",
       "      <td>miniature_poodle</td>\n",
       "      <td>0.025581</td>\n",
       "      <td>True</td>\n",
       "    </tr>\n",
       "  </tbody>\n",
       "</table>\n",
       "<p>4 rows × 21 columns</p>\n",
       "</div>"
      ],
      "text/plain": [
       "                tweet_id           timestamp  \\\n",
       "403   810984652412424192 2016-12-19 23:06:23   \n",
       "853   740373189193256964 2016-06-08 02:41:38   \n",
       "1426  682962037429899265 2016-01-01 16:30:13   \n",
       "2076  666287406224695296 2015-11-16 16:11:11   \n",
       "\n",
       "                                                                                  source  \\\n",
       "403   <a href=\"http://twitter.com/download/iphone\" rel=\"nofollow\">Twitter for iPhone</a>   \n",
       "853   <a href=\"http://twitter.com/download/iphone\" rel=\"nofollow\">Twitter for iPhone</a>   \n",
       "1426  <a href=\"http://twitter.com/download/iphone\" rel=\"nofollow\">Twitter for iPhone</a>   \n",
       "2076  <a href=\"http://twitter.com/download/iphone\" rel=\"nofollow\">Twitter for iPhone</a>   \n",
       "\n",
       "                                                                                                                                                                           text  \\\n",
       "403   Meet Sam. She smiles 24/7 &amp; secretly aspires to be a reindeer. \\nKeep Sam smiling by clicking and sharing this link:\\nhttps://t.co/98tB8y7y7t https://t.co/LouL5vdvxx   \n",
       "853   After so many requests, this is Bretagne. She was the last surviving 9/11 search dog, and our second ever 14/10. RIP https://t.co/XAVDNDaVgQ                                \n",
       "1426  This is Darrel. He just robbed a 7/11 and is in a high speed police chase. Was just spotted by the helicopter 10/10 https://t.co/7EsP8LmSp5                                 \n",
       "2076  This is an Albanian 3 1/2 legged  Episcopalian. Loves well-polished hardwood flooring. Penis on the collar. 9/10 https://t.co/d9NcXFKwLv                                    \n",
       "\n",
       "                                                                                                                                                                                                                                                        expanded_urls  \\\n",
       "403   https://www.gofundme.com/sams-smile,https://twitter.com/dog_rates/status/810984652412424192/photo/1                                                                                                                                                               \n",
       "853   https://twitter.com/dog_rates/status/740373189193256964/photo/1,https://twitter.com/dog_rates/status/740373189193256964/photo/1,https://twitter.com/dog_rates/status/740373189193256964/photo/1,https://twitter.com/dog_rates/status/740373189193256964/photo/1   \n",
       "1426  https://twitter.com/dog_rates/status/682962037429899265/photo/1                                                                                                                                                                                                   \n",
       "2076  https://twitter.com/dog_rates/status/666287406224695296/photo/1                                                                                                                                                                                                   \n",
       "\n",
       "      rating_numerator  rating_denominator    name dog_stage  retweet_count  \\\n",
       "403   24.0              7                   Sam     NaN       1470            \n",
       "853   9.0               11                  None    NaN       13335           \n",
       "1426  7.0               11                  Darrel  NaN       16595           \n",
       "2076  1.0               2                   an      NaN       62              \n",
       "\n",
       "      ...  img_num                p1   p1_conf  p1_dog               p2  \\\n",
       "403   ...  1.0      golden_retriever  0.871342  True    Tibetan_mastiff   \n",
       "853   ...  3.0      golden_retriever  0.807644  True    kuvasz            \n",
       "1426  ...  1.0      dingo             0.278600  False   Chihuahua         \n",
       "2076  ...  1.0      Maltese_dog       0.857531  True    toy_poodle        \n",
       "\n",
       "       p2_conf  p2_dog                  p3   p3_conf  p3_dog  \n",
       "403   0.036708  True    Labrador_retriever  0.025823  True    \n",
       "853   0.101286  True    Labrador_retriever  0.023785  True    \n",
       "1426  0.155207  True    loupe               0.153598  False   \n",
       "2076  0.063064  True    miniature_poodle    0.025581  True    \n",
       "\n",
       "[4 rows x 21 columns]"
      ]
     },
     "execution_count": 71,
     "metadata": {},
     "output_type": "execute_result"
    }
   ],
   "source": [
    "tweeter_archive_clean[(tweeter_archive_clean['rating_denominator'] == 11) |\n",
    "                      (tweeter_archive_clean['rating_denominator'] == 7) |\n",
    "                      (tweeter_archive_clean['rating_denominator'] == 2)]"
   ]
  },
  {
   "cell_type": "code",
   "execution_count": 72,
   "metadata": {},
   "outputs": [],
   "source": [
    "# fix the rating issue for these specific error cases indivisually\n",
    "tweeter_archive_clean.loc[(tweeter_archive_clean['tweet_id'] == '740373189193256964'),'rating_denominator'] = 10\n",
    "tweeter_archive_clean.loc[(tweeter_archive_clean['tweet_id'] == '740373189193256964'),'rating_numerator'] = 14\n",
    "\n",
    "tweeter_archive_clean.loc[(tweeter_archive_clean['tweet_id'] == '682962037429899265'),'rating_denominator'] = 10\n",
    "tweeter_archive_clean.loc[(tweeter_archive_clean['tweet_id'] == '682962037429899265'),'rating_numerator'] = 10\n",
    "\n",
    "tweeter_archive_clean.loc[(tweeter_archive_clean['tweet_id'] == '666287406224695296'),'rating_denominator'] = 10\n",
    "tweeter_archive_clean.loc[(tweeter_archive_clean['tweet_id'] == '666287406224695296'),'rating_numerator'] = 9\n",
    "\n",
    "tweeter_archive_clean.loc[(tweeter_archive_clean['tweet_id'] == '810984652412424192'),'rating_denominator'] = np.nan\n",
    "tweeter_archive_clean.loc[(tweeter_archive_clean['tweet_id'] == '810984652412424192'),'rating_numerator'] = np.nan\n"
   ]
  },
  {
   "cell_type": "markdown",
   "metadata": {},
   "source": [
    "##### test"
   ]
  },
  {
   "cell_type": "code",
   "execution_count": 73,
   "metadata": {},
   "outputs": [
    {
     "data": {
      "text/plain": [
       "10.0    2083\n",
       "Name: rating_denominator, dtype: int64"
      ]
     },
     "execution_count": 73,
     "metadata": {},
     "output_type": "execute_result"
    }
   ],
   "source": [
    "tweeter_archive_clean.rating_denominator.value_counts()"
   ]
  },
  {
   "cell_type": "markdown",
   "metadata": {},
   "source": [
    "#### 9. Duplicated urls in column 'expanded_urls'.\n",
    "#### 10. Tweet id '890971913173991426' has two different urls in column 'expanded_urls'. The second one is same as the one in 'jpf_url' in table 'df_image'"
   ]
  },
  {
   "cell_type": "markdown",
   "metadata": {},
   "source": [
    "##### define\n",
    "1. for the record with tweet id '890971913173991426', keep the second url to be consistent with the one in 'jpf_url'\n",
    "2. remove the duplicated urls. Keep the last url in the list to accomodate the fix fo the issue above.\n"
   ]
  },
  {
   "cell_type": "markdown",
   "metadata": {},
   "source": [
    "##### code"
   ]
  },
  {
   "cell_type": "code",
   "execution_count": 74,
   "metadata": {},
   "outputs": [],
   "source": [
    "tweeter_archive_clean.expanded_urls = tweeter_archive_clean.expanded_urls.str.split(',').str[-1]\n",
    "\n",
    "tweeter_archive_clean.rename(index=str, columns={\"expanded_urls\": \"expanded_url\"}, inplace=True)"
   ]
  },
  {
   "cell_type": "markdown",
   "metadata": {},
   "source": [
    "##### test"
   ]
  },
  {
   "cell_type": "code",
   "execution_count": 75,
   "metadata": {},
   "outputs": [
    {
     "data": {
      "text/html": [
       "<div>\n",
       "<style scoped>\n",
       "    .dataframe tbody tr th:only-of-type {\n",
       "        vertical-align: middle;\n",
       "    }\n",
       "\n",
       "    .dataframe tbody tr th {\n",
       "        vertical-align: top;\n",
       "    }\n",
       "\n",
       "    .dataframe thead th {\n",
       "        text-align: right;\n",
       "    }\n",
       "</style>\n",
       "<table border=\"1\" class=\"dataframe\">\n",
       "  <thead>\n",
       "    <tr style=\"text-align: right;\">\n",
       "      <th></th>\n",
       "      <th>tweet_id</th>\n",
       "      <th>timestamp</th>\n",
       "      <th>source</th>\n",
       "      <th>text</th>\n",
       "      <th>expanded_url</th>\n",
       "      <th>rating_numerator</th>\n",
       "      <th>rating_denominator</th>\n",
       "      <th>name</th>\n",
       "      <th>dog_stage</th>\n",
       "      <th>retweet_count</th>\n",
       "      <th>...</th>\n",
       "      <th>img_num</th>\n",
       "      <th>p1</th>\n",
       "      <th>p1_conf</th>\n",
       "      <th>p1_dog</th>\n",
       "      <th>p2</th>\n",
       "      <th>p2_conf</th>\n",
       "      <th>p2_dog</th>\n",
       "      <th>p3</th>\n",
       "      <th>p3_conf</th>\n",
       "      <th>p3_dog</th>\n",
       "    </tr>\n",
       "  </thead>\n",
       "  <tbody>\n",
       "    <tr>\n",
       "      <td>788</td>\n",
       "      <td>748324050481647620</td>\n",
       "      <td>2016-06-30 01:15:31</td>\n",
       "      <td>&lt;a href=\"http://twitter.com/download/iphone\" rel=\"nofollow\"&gt;Twitter for iPhone&lt;/a&gt;</td>\n",
       "      <td>This is Duke. He permanently looks like he just tripped over something. 11/10 https://t.co/1sNtG7GgiO</td>\n",
       "      <td>https://twitter.com/dog_rates/status/748324050481647620/photo/1</td>\n",
       "      <td>11.0</td>\n",
       "      <td>10.0</td>\n",
       "      <td>Duke</td>\n",
       "      <td>NaN</td>\n",
       "      <td>767</td>\n",
       "      <td>...</td>\n",
       "      <td>1.0</td>\n",
       "      <td>Shetland_sheepdog</td>\n",
       "      <td>0.880499</td>\n",
       "      <td>True</td>\n",
       "      <td>collie</td>\n",
       "      <td>0.107901</td>\n",
       "      <td>True</td>\n",
       "      <td>Pembroke</td>\n",
       "      <td>0.003607</td>\n",
       "      <td>True</td>\n",
       "    </tr>\n",
       "    <tr>\n",
       "      <td>1042</td>\n",
       "      <td>710269109699739648</td>\n",
       "      <td>2016-03-17 00:58:46</td>\n",
       "      <td>&lt;a href=\"http://twitter.com/download/iphone\" rel=\"nofollow\"&gt;Twitter for iPhone&lt;/a&gt;</td>\n",
       "      <td>The squad is back for St. Patrick's Day! ☘ 💚\\n13/10 for all https://t.co/OcCDb2bng5</td>\n",
       "      <td>https://twitter.com/dog_rates/status/710269109699739648/photo/1</td>\n",
       "      <td>13.0</td>\n",
       "      <td>10.0</td>\n",
       "      <td>None</td>\n",
       "      <td>NaN</td>\n",
       "      <td>1122</td>\n",
       "      <td>...</td>\n",
       "      <td>1.0</td>\n",
       "      <td>pug</td>\n",
       "      <td>0.415495</td>\n",
       "      <td>True</td>\n",
       "      <td>German_shepherd</td>\n",
       "      <td>0.178157</td>\n",
       "      <td>True</td>\n",
       "      <td>Labrador_retriever</td>\n",
       "      <td>0.100202</td>\n",
       "      <td>True</td>\n",
       "    </tr>\n",
       "    <tr>\n",
       "      <td>799</td>\n",
       "      <td>747512671126323200</td>\n",
       "      <td>2016-06-27 19:31:23</td>\n",
       "      <td>&lt;a href=\"http://twitter.com/download/iphone\" rel=\"nofollow\"&gt;Twitter for iPhone&lt;/a&gt;</td>\n",
       "      <td>Guys pls stop sending actual sharks. It's too dangerous for me and the people taking the photos. Thank you ...10/10 https://t.co/12lICZN2SP</td>\n",
       "      <td>https://twitter.com/dog_rates/status/747512671126323200/photo/1</td>\n",
       "      <td>10.0</td>\n",
       "      <td>10.0</td>\n",
       "      <td>None</td>\n",
       "      <td>NaN</td>\n",
       "      <td>1618</td>\n",
       "      <td>...</td>\n",
       "      <td>1.0</td>\n",
       "      <td>Cardigan</td>\n",
       "      <td>0.111493</td>\n",
       "      <td>True</td>\n",
       "      <td>malinois</td>\n",
       "      <td>0.095089</td>\n",
       "      <td>True</td>\n",
       "      <td>German_shepherd</td>\n",
       "      <td>0.080146</td>\n",
       "      <td>True</td>\n",
       "    </tr>\n",
       "    <tr>\n",
       "      <td>478</td>\n",
       "      <td>793962221541933056</td>\n",
       "      <td>2016-11-02 23:45:19</td>\n",
       "      <td>&lt;a href=\"http://twitter.com/download/iphone\" rel=\"nofollow\"&gt;Twitter for iPhone&lt;/a&gt;</td>\n",
       "      <td>This is Maximus. His face is stuck like that. Tragic really. Great tongue tho. 12/10 would pet firmly https://t.co/xIfrsMNLBR</td>\n",
       "      <td>https://twitter.com/dog_rates/status/793962221541933056/photo/1</td>\n",
       "      <td>12.0</td>\n",
       "      <td>10.0</td>\n",
       "      <td>Maximus</td>\n",
       "      <td>NaN</td>\n",
       "      <td>5033</td>\n",
       "      <td>...</td>\n",
       "      <td>1.0</td>\n",
       "      <td>Labrador_retriever</td>\n",
       "      <td>0.861651</td>\n",
       "      <td>True</td>\n",
       "      <td>golden_retriever</td>\n",
       "      <td>0.044462</td>\n",
       "      <td>True</td>\n",
       "      <td>Staffordshire_bullterrier</td>\n",
       "      <td>0.016497</td>\n",
       "      <td>True</td>\n",
       "    </tr>\n",
       "    <tr>\n",
       "      <td>836</td>\n",
       "      <td>742534281772302336</td>\n",
       "      <td>2016-06-14 01:49:03</td>\n",
       "      <td>&lt;a href=\"http://vine.co\" rel=\"nofollow\"&gt;Vine - Make a Scene&lt;/a&gt;</td>\n",
       "      <td>For anyone who's wondering, this is what happens after a doggo catches it's tail... 11/10 https://t.co/G4fNhzelDv</td>\n",
       "      <td>https://vine.co/v/iLTZmtE1FTB</td>\n",
       "      <td>11.0</td>\n",
       "      <td>10.0</td>\n",
       "      <td>None</td>\n",
       "      <td>doggo</td>\n",
       "      <td>3585</td>\n",
       "      <td>...</td>\n",
       "      <td>NaN</td>\n",
       "      <td>NaN</td>\n",
       "      <td>NaN</td>\n",
       "      <td>NaN</td>\n",
       "      <td>NaN</td>\n",
       "      <td>NaN</td>\n",
       "      <td>NaN</td>\n",
       "      <td>NaN</td>\n",
       "      <td>NaN</td>\n",
       "      <td>NaN</td>\n",
       "    </tr>\n",
       "  </tbody>\n",
       "</table>\n",
       "<p>5 rows × 21 columns</p>\n",
       "</div>"
      ],
      "text/plain": [
       "                tweet_id           timestamp  \\\n",
       "788   748324050481647620 2016-06-30 01:15:31   \n",
       "1042  710269109699739648 2016-03-17 00:58:46   \n",
       "799   747512671126323200 2016-06-27 19:31:23   \n",
       "478   793962221541933056 2016-11-02 23:45:19   \n",
       "836   742534281772302336 2016-06-14 01:49:03   \n",
       "\n",
       "                                                                                  source  \\\n",
       "788   <a href=\"http://twitter.com/download/iphone\" rel=\"nofollow\">Twitter for iPhone</a>   \n",
       "1042  <a href=\"http://twitter.com/download/iphone\" rel=\"nofollow\">Twitter for iPhone</a>   \n",
       "799   <a href=\"http://twitter.com/download/iphone\" rel=\"nofollow\">Twitter for iPhone</a>   \n",
       "478   <a href=\"http://twitter.com/download/iphone\" rel=\"nofollow\">Twitter for iPhone</a>   \n",
       "836   <a href=\"http://vine.co\" rel=\"nofollow\">Vine - Make a Scene</a>                      \n",
       "\n",
       "                                                                                                                                             text  \\\n",
       "788   This is Duke. He permanently looks like he just tripped over something. 11/10 https://t.co/1sNtG7GgiO                                         \n",
       "1042  The squad is back for St. Patrick's Day! ☘ 💚\\n13/10 for all https://t.co/OcCDb2bng5                                                           \n",
       "799   Guys pls stop sending actual sharks. It's too dangerous for me and the people taking the photos. Thank you ...10/10 https://t.co/12lICZN2SP   \n",
       "478   This is Maximus. His face is stuck like that. Tragic really. Great tongue tho. 12/10 would pet firmly https://t.co/xIfrsMNLBR                 \n",
       "836   For anyone who's wondering, this is what happens after a doggo catches it's tail... 11/10 https://t.co/G4fNhzelDv                             \n",
       "\n",
       "                                                         expanded_url  \\\n",
       "788   https://twitter.com/dog_rates/status/748324050481647620/photo/1   \n",
       "1042  https://twitter.com/dog_rates/status/710269109699739648/photo/1   \n",
       "799   https://twitter.com/dog_rates/status/747512671126323200/photo/1   \n",
       "478   https://twitter.com/dog_rates/status/793962221541933056/photo/1   \n",
       "836   https://vine.co/v/iLTZmtE1FTB                                     \n",
       "\n",
       "      rating_numerator  rating_denominator     name dog_stage  retweet_count  \\\n",
       "788   11.0              10.0                Duke     NaN       767             \n",
       "1042  13.0              10.0                None     NaN       1122            \n",
       "799   10.0              10.0                None     NaN       1618            \n",
       "478   12.0              10.0                Maximus  NaN       5033            \n",
       "836   11.0              10.0                None     doggo     3585            \n",
       "\n",
       "      ...  img_num                  p1   p1_conf  p1_dog                p2  \\\n",
       "788   ...  1.0      Shetland_sheepdog   0.880499  True    collie             \n",
       "1042  ...  1.0      pug                 0.415495  True    German_shepherd    \n",
       "799   ...  1.0      Cardigan            0.111493  True    malinois           \n",
       "478   ...  1.0      Labrador_retriever  0.861651  True    golden_retriever   \n",
       "836   ... NaN       NaN                NaN        NaN     NaN                \n",
       "\n",
       "       p2_conf  p2_dog                         p3   p3_conf  p3_dog  \n",
       "788   0.107901  True    Pembroke                   0.003607  True    \n",
       "1042  0.178157  True    Labrador_retriever         0.100202  True    \n",
       "799   0.095089  True    German_shepherd            0.080146  True    \n",
       "478   0.044462  True    Staffordshire_bullterrier  0.016497  True    \n",
       "836  NaN        NaN     NaN                       NaN        NaN     \n",
       "\n",
       "[5 rows x 21 columns]"
      ]
     },
     "execution_count": 75,
     "metadata": {},
     "output_type": "execute_result"
    }
   ],
   "source": [
    "tweeter_archive_clean.sample(5)"
   ]
  },
  {
   "cell_type": "code",
   "execution_count": 76,
   "metadata": {},
   "outputs": [],
   "source": [
    "##### save the cleaned tables to twitter_archive_master.csv file.\n",
    "\n",
    "tweeter_archive_clean.to_csv('twitter_archive_master.csv', index=False)\n"
   ]
  },
  {
   "cell_type": "markdown",
   "metadata": {},
   "source": [
    "### Insights and Visualizations"
   ]
  },
  {
   "cell_type": "code",
   "execution_count": 77,
   "metadata": {},
   "outputs": [
    {
     "data": {
      "text/plain": [
       "pupper           221\n",
       "doggo            72 \n",
       "puppo            23 \n",
       "doggo,pupper     9  \n",
       "floofer          9  \n",
       "doggo,puppo      1  \n",
       "doggo,floofer    1  \n",
       "Name: dog_stage, dtype: int64"
      ]
     },
     "execution_count": 77,
     "metadata": {},
     "output_type": "execute_result"
    }
   ],
   "source": [
    "tweeter_archive_clean.dog_stage.value_counts()"
   ]
  },
  {
   "cell_type": "code",
   "execution_count": 78,
   "metadata": {},
   "outputs": [
    {
     "data": {
      "text/plain": [
       "(336, 2084)"
      ]
     },
     "execution_count": 78,
     "metadata": {},
     "output_type": "execute_result"
    }
   ],
   "source": [
    "tweeter_archive_clean.dog_stage.count(), tweeter_archive_clean.shape[0]"
   ]
  },
  {
   "cell_type": "code",
   "execution_count": 79,
   "metadata": {},
   "outputs": [
    {
     "data": {
      "text/html": [
       "<div>\n",
       "<style scoped>\n",
       "    .dataframe tbody tr th:only-of-type {\n",
       "        vertical-align: middle;\n",
       "    }\n",
       "\n",
       "    .dataframe tbody tr th {\n",
       "        vertical-align: top;\n",
       "    }\n",
       "\n",
       "    .dataframe thead th {\n",
       "        text-align: right;\n",
       "    }\n",
       "</style>\n",
       "<table border=\"1\" class=\"dataframe\">\n",
       "  <thead>\n",
       "    <tr style=\"text-align: right;\">\n",
       "      <th></th>\n",
       "      <th>rating_numerator</th>\n",
       "      <th>rating_denominator</th>\n",
       "      <th>retweet_count</th>\n",
       "      <th>favorite_count</th>\n",
       "      <th>img_num</th>\n",
       "      <th>p1_conf</th>\n",
       "      <th>p2_conf</th>\n",
       "      <th>p3_conf</th>\n",
       "    </tr>\n",
       "  </thead>\n",
       "  <tbody>\n",
       "    <tr>\n",
       "      <td>0.25</td>\n",
       "      <td>10.0</td>\n",
       "      <td>10.0</td>\n",
       "      <td>556.75</td>\n",
       "      <td>1834.75</td>\n",
       "      <td>1.0</td>\n",
       "      <td>0.362656</td>\n",
       "      <td>0.053616</td>\n",
       "      <td>0.016053</td>\n",
       "    </tr>\n",
       "    <tr>\n",
       "      <td>0.50</td>\n",
       "      <td>11.0</td>\n",
       "      <td>10.0</td>\n",
       "      <td>1225.00</td>\n",
       "      <td>3823.00</td>\n",
       "      <td>1.0</td>\n",
       "      <td>0.587635</td>\n",
       "      <td>0.117537</td>\n",
       "      <td>0.049410</td>\n",
       "    </tr>\n",
       "    <tr>\n",
       "      <td>0.75</td>\n",
       "      <td>12.0</td>\n",
       "      <td>10.0</td>\n",
       "      <td>2889.50</td>\n",
       "      <td>10482.75</td>\n",
       "      <td>1.0</td>\n",
       "      <td>0.847216</td>\n",
       "      <td>0.195856</td>\n",
       "      <td>0.091555</td>\n",
       "    </tr>\n",
       "    <tr>\n",
       "      <td>0.95</td>\n",
       "      <td>13.0</td>\n",
       "      <td>10.0</td>\n",
       "      <td>8274.35</td>\n",
       "      <td>29095.20</td>\n",
       "      <td>2.0</td>\n",
       "      <td>0.990260</td>\n",
       "      <td>0.328507</td>\n",
       "      <td>0.157088</td>\n",
       "    </tr>\n",
       "    <tr>\n",
       "      <td>0.99</td>\n",
       "      <td>14.0</td>\n",
       "      <td>10.0</td>\n",
       "      <td>19648.88</td>\n",
       "      <td>54385.22</td>\n",
       "      <td>4.0</td>\n",
       "      <td>0.999438</td>\n",
       "      <td>0.417340</td>\n",
       "      <td>0.201878</td>\n",
       "    </tr>\n",
       "    <tr>\n",
       "      <td>1.00</td>\n",
       "      <td>1776.0</td>\n",
       "      <td>10.0</td>\n",
       "      <td>78263.00</td>\n",
       "      <td>157119.00</td>\n",
       "      <td>4.0</td>\n",
       "      <td>1.000000</td>\n",
       "      <td>0.488014</td>\n",
       "      <td>0.271042</td>\n",
       "    </tr>\n",
       "  </tbody>\n",
       "</table>\n",
       "</div>"
      ],
      "text/plain": [
       "      rating_numerator  rating_denominator  retweet_count  favorite_count  \\\n",
       "0.25  10.0              10.0                556.75         1834.75          \n",
       "0.50  11.0              10.0                1225.00        3823.00          \n",
       "0.75  12.0              10.0                2889.50        10482.75         \n",
       "0.95  13.0              10.0                8274.35        29095.20         \n",
       "0.99  14.0              10.0                19648.88       54385.22         \n",
       "1.00  1776.0            10.0                78263.00       157119.00        \n",
       "\n",
       "      img_num   p1_conf   p2_conf   p3_conf  \n",
       "0.25  1.0      0.362656  0.053616  0.016053  \n",
       "0.50  1.0      0.587635  0.117537  0.049410  \n",
       "0.75  1.0      0.847216  0.195856  0.091555  \n",
       "0.95  2.0      0.990260  0.328507  0.157088  \n",
       "0.99  4.0      0.999438  0.417340  0.201878  \n",
       "1.00  4.0      1.000000  0.488014  0.271042  "
      ]
     },
     "execution_count": 79,
     "metadata": {},
     "output_type": "execute_result"
    }
   ],
   "source": [
    "tweeter_archive_clean.quantile([0.25, 0.5, 0.75,0.95, 0.99,1.0])"
   ]
  },
  {
   "cell_type": "code",
   "execution_count": 80,
   "metadata": {},
   "outputs": [
    {
     "data": {
      "image/png": "[encoded data removed]",
      "text/plain": [
       "<Figure size 432x288 with 1 Axes>"
      ]
     },
     "metadata": {
      "needs_background": "light"
     },
     "output_type": "display_data"
    }
   ],
   "source": [
    "# Plot the dog rating data\n",
    "# Since there are some extreme data, take a look at the plot of 99% data.\n",
    "rating_numerator_99 = tweeter_archive_clean.rating_numerator.quantile(0.99)\n",
    "rating_numerator_99_set = tweeter_archive_clean[tweeter_archive_clean['rating_numerator'] <= rating_numerator_99]\n",
    "\n",
    "plt.hist(rating_numerator_99_set.rating_numerator)\n",
    "plt.title('The distribution of the 99% rating data')\n",
    "plt.xlabel('Dog Rating ( x / 10)')\n",
    "plt.ylabel('Count')\n",
    "plt.show()\n"
   ]
  },
  {
   "cell_type": "code",
   "execution_count": 81,
   "metadata": {},
   "outputs": [
    {
     "data": {
      "image/png": "[encoded data removed]",
      "text/plain": [
       "<Figure size 432x288 with 1 Axes>"
      ]
     },
     "metadata": {
      "needs_background": "light"
     },
     "output_type": "display_data"
    }
   ],
   "source": [
    "# plot the distribution of retweet counts\n",
    "plt.hist(tweeter_archive_clean.retweet_count, bins=50)\n",
    "plt.title('The distribution of the retweet counts')\n",
    "plt.xlabel('Retweet Count')\n",
    "plt.ylabel('Count')\n",
    "plt.show()"
   ]
  },
  {
   "cell_type": "code",
   "execution_count": 82,
   "metadata": {},
   "outputs": [
    {
     "data": {
      "image/png": "[encoded data removed]",
      "text/plain": [
       "<Figure size 432x288 with 1 Axes>"
      ]
     },
     "metadata": {
      "needs_background": "light"
     },
     "output_type": "display_data"
    }
   ],
   "source": [
    "# Since there are some extreme data, take a look at the plot of 95% data.\n",
    "retweet_count_95 = tweeter_archive_clean.retweet_count.quantile(0.95)\n",
    "retweet_count_95_set = tweeter_archive_clean[tweeter_archive_clean['retweet_count'] <= retweet_count_95]\n",
    "plt.hist(retweet_count_95_set.retweet_count, bins=50)\n",
    "plt.title('The distribution of the 95% retweet counts')\n",
    "plt.xlabel('Retweet Count')\n",
    "plt.ylabel('Count')\n",
    "plt.show()"
   ]
  },
  {
   "cell_type": "code",
   "execution_count": 83,
   "metadata": {},
   "outputs": [
    {
     "data": {
      "image/png": "[encoded data removed]",
      "text/plain": [
       "<Figure size 432x288 with 1 Axes>"
      ]
     },
     "metadata": {
      "needs_background": "light"
     },
     "output_type": "display_data"
    }
   ],
   "source": [
    "# Since there are some extreme data, take a look at the plot of 95% data.\n",
    "favorite_count_95 = tweeter_archive_clean.favorite_count.quantile(0.95)\n",
    "favorite_count_95_set = tweeter_archive_clean[tweeter_archive_clean['favorite_count'] <= favorite_count_95]\n",
    "plt.hist(favorite_count_95_set.retweet_count, bins=50)\n",
    "plt.title('The distribution of the 95% favorite counts')\n",
    "plt.xlabel('Favorite Count')\n",
    "plt.ylabel('Count')\n",
    "plt.show()"
   ]
  },
  {
   "cell_type": "markdown",
   "metadata": {},
   "source": [
    "#### Insights:\n",
    "1. Not many people share their dogs' stage.  There are 2084 records in total after the dataset is cleaned. But the total count that have dog stage data is only 336.  Among this 336, pupper is the most common stage,which is 230.\n",
    "2. The median dog rating is 11/10. 99% of dogs got rating under 14/11. There is an extreme case of 1776/10. We should exclude 1776 if further analysis is done on dog rating.\n",
    "3. The distribution of retweet count is right skewed. If only 95% data is used more details can be seen in the plot. The median retweet count is 1305.5. And 95% user's retweet count is under 8876.15.\n",
    "4. The distribution of favorite count is also right skewed, very similar to that of retweet count. The median retweet count is 3983.5. And 95% user's retweet count is under 30225.40.\n",
    "\n",
    "##### Please be noticed all the analysis and visualization are based on the cleaned dataset of tweeter_archive_clean."
   ]
  },
  {
   "cell_type": "markdown",
   "metadata": {},
   "source": [
    "### Reference\n",
    "1. https://knowledge.udacity.com/questions/22750\n",
    "2. https://developer.twitter.com/en/docs/tweets/data-dictionary/overview/tweet-object\n",
    "3. http://docs.tweepy.org/en/v3.5.0/index.html\n",
    "4. https://www.geeksforgeeks.org/extraction-of-tweets-using-tweepy/\n",
    "5. https://knowledge.udacity.com/questions/17360"
   ]
  },
  {
   "cell_type": "code",
   "execution_count": null,
   "metadata": {},
   "outputs": [],
   "source": []
  },
  {
   "cell_type": "code",
   "execution_count": null,
   "metadata": {},
   "outputs": [],
   "source": []
  }
 ],
 "metadata": {
  "kernelspec": {
   "display_name": "Python 3",
   "language": "python",
   "name": "python3"
  },
  "language_info": {
   "codemirror_mode": {
    "name": "ipython",
    "version": 3
   },
   "file_extension": ".py",
   "mimetype": "text/x-python",
   "name": "python",
   "nbconvert_exporter": "python",
   "pygments_lexer": "ipython3",
   "version": "3.7.3"
  }
 },
 "nbformat": 4,
 "nbformat_minor": 2
}
